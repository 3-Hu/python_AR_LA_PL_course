{
 "cells": [
  {
   "cell_type": "code",
   "execution_count": 105,
   "id": "5f609a81-a7f5-470f-b46a-c70c46fe0abc",
   "metadata": {},
   "outputs": [
    {
     "name": "stdout",
     "output_type": "stream",
     "text": [
      "Hello XAUAT!\n",
      "Let's start to learn python.\n",
      "(It's so hard to learn.)\n",
      "~~~~~~~~~~~~~~~~~~~~~~~~~~~~~~~~~~~~~~~~~~~~~~~~~~~~~~~~~~~~~~~~~~~~~~~~~~~~~~~~~~~~~~~~~~~~~~~~~~~~\n",
      "~*100\n"
     ]
    }
   ],
   "source": [
    "print(\"Hello XAUAT!\") #print打印、输入；（）内的内容；字符串加“ ” \n",
    "print(\"Let's start to learn python.\")\n",
    "print(\"(It's so hard to learn.)\")\n",
    "print(\"~\"*100) #字符串*数量（注意加引号的位置）\n",
    "print(\"~*100\") #红色内容电脑不加翻译"
   ]
  },
  {
   "cell_type": "code",
   "execution_count": 56,
   "id": "8797114d-43eb-4752-8e9b-81667fba0173",
   "metadata": {},
   "outputs": [
    {
     "name": "stdout",
     "output_type": "stream",
     "text": [
      "加 -1\n",
      "减 1\n",
      "-1\n",
      "除 0.5\n",
      "乘 18\n",
      "整除 2\n",
      "幂 125\n",
      "余数 3\n"
     ]
    }
   ],
   "source": [
    "#简单运算\n",
    "print(\"加\",-3+2) #负号不影响 连续输出内容用，连接\n",
    "print('减',3-2)\n",
    "print(1-2)\n",
    "print(\"除\",3/6)\n",
    "print('乘',3*6)\n",
    "print('整除',5//2) #//整除，5//2（5里最多有几个2）\n",
    "print('幂',5**3) #**幂运算，5的3次方\n",
    "print('余数',71%4)"
   ]
  },
  {
   "cell_type": "code",
   "execution_count": 69,
   "id": "c8301818-31a8-441e-85bd-d6cbe27f5455",
   "metadata": {},
   "outputs": [
    {
     "name": "stdout",
     "output_type": "stream",
     "text": [
      "0\n",
      "3\n",
      "1\n",
      "0\n",
      "1\n",
      "True\n",
      "True\n",
      "False\n",
      "False\n"
     ]
    }
   ],
   "source": [
    "print(1&2) #&和运算，a&b 如果a和b均为True，则结果为True否则为false,对于整数，执行按位与操作\n",
    "print(3&3)\n",
    "print(9&1) #?\n",
    "print(2^2)\n",
    "print(3^2)\n",
    "print(2==2)\n",
    "print(1<=2)\n",
    "print(1==2&1<=2)\n",
    "print(2==2^2==2)"
   ]
  },
  {
   "cell_type": "code",
   "execution_count": 77,
   "id": "bd2951d6-ffb7-4e85-a3b5-77842363013b",
   "metadata": {},
   "outputs": [
    {
     "ename": "NameError",
     "evalue": "name 'x' is not defined",
     "output_type": "error",
     "traceback": [
      "\u001b[1;31m---------------------------------------------------------------------------\u001b[0m",
      "\u001b[1;31mNameError\u001b[0m                                 Traceback (most recent call last)",
      "\u001b[1;32m<ipython-input-77-2acf486dedbe>\u001b[0m in \u001b[0;36m<module>\u001b[1;34m\u001b[0m\n\u001b[1;32m----> 1\u001b[1;33m \u001b[0mfunc\u001b[0m\u001b[1;33m=\u001b[0m\u001b[1;36m2\u001b[0m\u001b[1;33m*\u001b[0m\u001b[0mx\u001b[0m\u001b[1;33m+\u001b[0m\u001b[1;36m1\u001b[0m \u001b[1;31m#当程序逐行从上至下运行时，注意变量定义的顺序\u001b[0m\u001b[1;33m\u001b[0m\u001b[1;33m\u001b[0m\u001b[0m\n\u001b[0m\u001b[0;32m      2\u001b[0m \u001b[0mx\u001b[0m\u001b[1;33m=\u001b[0m\u001b[1;36m5\u001b[0m\u001b[1;33m\u001b[0m\u001b[1;33m\u001b[0m\u001b[0m\n\u001b[0;32m      3\u001b[0m \u001b[0mprint\u001b[0m\u001b[1;33m(\u001b[0m\u001b[0mfunc\u001b[0m\u001b[1;33m)\u001b[0m\u001b[1;33m\u001b[0m\u001b[1;33m\u001b[0m\u001b[0m\n",
      "\u001b[1;31mNameError\u001b[0m: name 'x' is not defined"
     ]
    }
   ],
   "source": [
    "func=2*x+1 #当程序逐行从上至下运行时，注意变量定义的顺序\n",
    "x=5\n",
    "print(func)"
   ]
  },
  {
   "cell_type": "code",
   "execution_count": 152,
   "id": "c2c479ee-1e52-478b-a014-2f50ab3e582c",
   "metadata": {},
   "outputs": [
    {
     "name": "stdout",
     "output_type": "stream",
     "text": [
      "func=12\n"
     ]
    }
   ],
   "source": [
    "x=3\n",
    "func=x**2+2*x-3\n",
    "print(\"func=%.0f\"%func)#func=x**2+2x-3"
   ]
  },
  {
   "cell_type": "code",
   "execution_count": 162,
   "id": "fc916818-aef1-4255-97b1-8d8e6c9db19b",
   "metadata": {},
   "outputs": [
    {
     "name": "stdout",
     "output_type": "stream",
     "text": [
      "3\n"
     ]
    }
   ],
   "source": [
    "x,y=3,3\n",
    "func=x**2\n",
    "print(\"{}\".format(x,y,func))#func=x**2+2x-3"
   ]
  },
  {
   "cell_type": "code",
   "execution_count": 100,
   "id": "7075aad6-81f4-44ed-8329-fb84db1e09eb",
   "metadata": {},
   "outputs": [
    {
     "name": "stdout",
     "output_type": "stream",
     "text": [
      "12\n"
     ]
    }
   ],
   "source": [
    "x=3\n",
    "x=x+1\n",
    "func=x**2-4\n",
    "print(func)#func=x**2+2x-3"
   ]
  },
  {
   "cell_type": "code",
   "execution_count": 116,
   "id": "1ceed718-2d88-43ed-a340-4cc5885ccfc9",
   "metadata": {},
   "outputs": [
    {
     "name": "stdout",
     "output_type": "stream",
     "text": [
      "monadic_equation= 11\n",
      "monadic_equation=11.0000\n",
      "monadic_equation=11.00\n"
     ]
    }
   ],
   "source": [
    "x=5\n",
    "monadic_equation=2*x+1\n",
    "print(\"monadic_equation=\",monadic_equation)\n",
    "print(\"monadic_equation=%.4f\"%monadic_equation) #%字符串格式化方法 .nf小数点后n位\n",
    "print(\"monadic_equation={:.2f}\".format(monadic_equation)) #format()字符串格式化方法"
   ]
  },
  {
   "cell_type": "code",
   "execution_count": 109,
   "id": "38e9ddf0-f4ac-4607-b216-91a89b88488c",
   "metadata": {},
   "outputs": [
    {
     "name": "stdout",
     "output_type": "stream",
     "text": [
      "The longitude of the Xi'an coordinate is 108.94, and the latitude is 34.26.\n"
     ]
    }
   ],
   "source": [
    "city_name=\"Xi'an\"\n",
    "coordinate_longitude=108.942292\n",
    "coordiante_latitude=34.261013\n",
    "print(\"The longitude of the Xi'an coordinate is {lon:.2f}, and the latitude is {lat:.2f}.\".format(lon=coordinate_longitude,lat=coordiante_latitude))"
   ]
  },
  {
   "cell_type": "code",
   "execution_count": 155,
   "id": "799699da-d035-4454-b6b9-b9149d0bdb57",
   "metadata": {},
   "outputs": [
    {
     "name": "stdout",
     "output_type": "stream",
     "text": [
      "The longitude of the Xi'an coordinate is 108.94, and the latitude is 34.26.\n",
      "西安的经度是108.94，纬度是34.26。\n"
     ]
    }
   ],
   "source": [
    "city_name=\"Xi'an\"\n",
    "city_name_in_Chinese=\"西安\"\n",
    "coordinate_longitude=108.942292\n",
    "coordiante_latitude=34.261013\n",
    "print(\"The longitude of the {city_name} coordinate is {lon:.2f}, and the latitude is {lat:.2f}.\".format(city_name=city_name,lon=coordinate_longitude,lat=coordiante_latitude))\n",
    "print(\"{city_name_in_Chinese}的经度是{lon:.2f}，纬度是{lat:.2f}。\".format(city_name_in_Chinese=city_name_in_Chinese,lon=coordinate_longitude,lat=coordiante_latitude))\n",
    "#优化后可更改城市，可中文表示"
   ]
  },
  {
   "cell_type": "code",
   "execution_count": 188,
   "id": "842149ba-95d1-42aa-8885-a08e85f3d2fc",
   "metadata": {},
   "outputs": [
    {
     "name": "stdout",
     "output_type": "stream",
     "text": [
      "func_2=26\n",
      "func_2=18\n",
      "func_2=53\n",
      "func_2=8\n"
     ]
    }
   ],
   "source": [
    "x,y,b=2,5,7 #unpacking 序列解包。尝试，x,y,*z=0,1,2,3,4,5,6; x,y,*z=0,1; (x,y),(a,b)=(0,1),(2,3)\n",
    "func_2=2*x+3*y+b\n",
    "print(\"func_2={}\".format(func_2))\n",
    "x,y,*z=4,1,2,3,4,5,6 #unpacking 序列解包。尝试，x,y,*z=0,1,2,3,4,5,6; x,y,*z=0,1; (x,y),(a,b)=(0,1),(2,3)\n",
    "func_2=2*x+3*y+b\n",
    "print(\"func_2={}\".format(func_2))\n",
    "x,y,*z=10,1\n",
    "func_2=2*x+3*y+3*x\n",
    "print(\"func_2={}\".format(func_2))\n",
    "(x,y),(a,b)=(0,1),(2,3)\n",
    "func_2=2*x+3*y+b+a\n",
    "print(\"func_2={}\".format(func_2))"
   ]
  },
  {
   "cell_type": "code",
   "execution_count": 192,
   "id": "79cf6f16-a70f-42cc-8cad-d4b2ef0491ab",
   "metadata": {},
   "outputs": [
    {
     "name": "stdout",
     "output_type": "stream",
     "text": [
      "[1, 4, 7, 10, 13, 16, 19, 22, 25, 28, 31, 34, 37, 40, 43, 46, 49, 52, 55, 58, 61, 64, 67, 70, 73, 76, 79, 82, 85, 88, 91, 94, 97]\n",
      "The list length=33\n",
      "Maximum value=97\n",
      "Minimum value=1\n"
     ]
    }
   ],
   "source": [
    "lst_n=list(range(1,100,3)) #建立列表。range(start,stop,step)建立区间。\n",
    "print(lst_n)\n",
    "print(\"The list length={}\".format(len(lst_n)))#数量,长度\n",
    "print(\"Maximum value={}\".format(max(lst_n)))#最大值\n",
    "print(\"Minimum value={}\".format(min(lst_n)))#最小值"
   ]
  },
  {
   "cell_type": "code",
   "execution_count": 235,
   "id": "5862bd79-9afd-4e32-b00a-d8722541883e",
   "metadata": {},
   "outputs": [
    {
     "name": "stdout",
     "output_type": "stream",
     "text": [
      "['a', 'b', 'c', 'd', 'e', 'f', 'g', 'h', 'i', 'j', 'k', 'l', 'm', 'n', 'o', 'p', 'q', 'r', 's', 't']\n",
      "__________________________________________________\n",
      "[0:6],['a', 'b', 'c', 'd', 'e', 'f']\n",
      "[-3,-1],['r', 's']\n",
      "[2:],['c', 'd', 'e', 'f', 'g', 'h', 'i', 'j', 'k', 'l', 'm', 'n', 'o', 'p', 'q', 'r', 's', 't']\n",
      "[:],['a', 'b', 'c', 'd', 'e', 'f', 'g', 'h', 'i', 'j', 'k', 'l', 'm', 'n', 'o', 'p', 'q', 'r', 's', 't']\n"
     ]
    }
   ],
   "source": [
    "lst_n=list(map(chr,range(97,117)))#range是列举范围内全部\n",
    "print(lst_n)\n",
    "print('_'*50)\n",
    "print('[0:6],{}'.format(lst_n[0:6]))#0也占位置\n",
    "print('[-3,-1],{}'.format(lst_n[-3:-1]))#负号倒序\n",
    "print('[2:],{}'.format(lst_n[2:]))#从2到最后[2:]\n",
    "print('[:],{}'.format(lst_n[:]))#从开始到最后[:]"
   ]
  },
  {
   "cell_type": "code",
   "execution_count": 227,
   "id": "70023be6-5499-4177-a8e0-defc0401bc8f",
   "metadata": {},
   "outputs": [
    {
     "name": "stdout",
     "output_type": "stream",
     "text": [
      "Help on class list in module builtins:\n",
      "\n",
      "class list(object)\n",
      " |  list(iterable=(), /)\n",
      " |  \n",
      " |  Built-in mutable sequence.\n",
      " |  \n",
      " |  If no argument is given, the constructor creates a new empty list.\n",
      " |  The argument must be an iterable if specified.\n",
      " |  \n",
      " |  Methods defined here:\n",
      " |  \n",
      " |  __add__(self, value, /)\n",
      " |      Return self+value.\n",
      " |  \n",
      " |  __contains__(self, key, /)\n",
      " |      Return key in self.\n",
      " |  \n",
      " |  __delitem__(self, key, /)\n",
      " |      Delete self[key].\n",
      " |  \n",
      " |  __eq__(self, value, /)\n",
      " |      Return self==value.\n",
      " |  \n",
      " |  __ge__(self, value, /)\n",
      " |      Return self>=value.\n",
      " |  \n",
      " |  __getattribute__(self, name, /)\n",
      " |      Return getattr(self, name).\n",
      " |  \n",
      " |  __getitem__(...)\n",
      " |      x.__getitem__(y) <==> x[y]\n",
      " |  \n",
      " |  __gt__(self, value, /)\n",
      " |      Return self>value.\n",
      " |  \n",
      " |  __iadd__(self, value, /)\n",
      " |      Implement self+=value.\n",
      " |  \n",
      " |  __imul__(self, value, /)\n",
      " |      Implement self*=value.\n",
      " |  \n",
      " |  __init__(self, /, *args, **kwargs)\n",
      " |      Initialize self.  See help(type(self)) for accurate signature.\n",
      " |  \n",
      " |  __iter__(self, /)\n",
      " |      Implement iter(self).\n",
      " |  \n",
      " |  __le__(self, value, /)\n",
      " |      Return self<=value.\n",
      " |  \n",
      " |  __len__(self, /)\n",
      " |      Return len(self).\n",
      " |  \n",
      " |  __lt__(self, value, /)\n",
      " |      Return self<value.\n",
      " |  \n",
      " |  __mul__(self, value, /)\n",
      " |      Return self*value.\n",
      " |  \n",
      " |  __ne__(self, value, /)\n",
      " |      Return self!=value.\n",
      " |  \n",
      " |  __repr__(self, /)\n",
      " |      Return repr(self).\n",
      " |  \n",
      " |  __reversed__(self, /)\n",
      " |      Return a reverse iterator over the list.\n",
      " |  \n",
      " |  __rmul__(self, value, /)\n",
      " |      Return value*self.\n",
      " |  \n",
      " |  __setitem__(self, key, value, /)\n",
      " |      Set self[key] to value.\n",
      " |  \n",
      " |  __sizeof__(self, /)\n",
      " |      Return the size of the list in memory, in bytes.\n",
      " |  \n",
      " |  append(self, object, /)\n",
      " |      Append object to the end of the list.\n",
      " |  \n",
      " |  clear(self, /)\n",
      " |      Remove all items from list.\n",
      " |  \n",
      " |  copy(self, /)\n",
      " |      Return a shallow copy of the list.\n",
      " |  \n",
      " |  count(self, value, /)\n",
      " |      Return number of occurrences of value.\n",
      " |  \n",
      " |  extend(self, iterable, /)\n",
      " |      Extend list by appending elements from the iterable.\n",
      " |  \n",
      " |  index(self, value, start=0, stop=9223372036854775807, /)\n",
      " |      Return first index of value.\n",
      " |      \n",
      " |      Raises ValueError if the value is not present.\n",
      " |  \n",
      " |  insert(self, index, object, /)\n",
      " |      Insert object before index.\n",
      " |  \n",
      " |  pop(self, index=-1, /)\n",
      " |      Remove and return item at index (default last).\n",
      " |      \n",
      " |      Raises IndexError if list is empty or index is out of range.\n",
      " |  \n",
      " |  remove(self, value, /)\n",
      " |      Remove first occurrence of value.\n",
      " |      \n",
      " |      Raises ValueError if the value is not present.\n",
      " |  \n",
      " |  reverse(self, /)\n",
      " |      Reverse *IN PLACE*.\n",
      " |  \n",
      " |  sort(self, /, *, key=None, reverse=False)\n",
      " |      Sort the list in ascending order and return None.\n",
      " |      \n",
      " |      The sort is in-place (i.e. the list itself is modified) and stable (i.e. the\n",
      " |      order of two equal elements is maintained).\n",
      " |      \n",
      " |      If a key function is given, apply it once to each list item and sort them,\n",
      " |      ascending or descending, according to their function values.\n",
      " |      \n",
      " |      The reverse flag can be set to sort in descending order.\n",
      " |  \n",
      " |  ----------------------------------------------------------------------\n",
      " |  Static methods defined here:\n",
      " |  \n",
      " |  __new__(*args, **kwargs) from builtins.type\n",
      " |      Create and return a new object.  See help(type) for accurate signature.\n",
      " |  \n",
      " |  ----------------------------------------------------------------------\n",
      " |  Data and other attributes defined here:\n",
      " |  \n",
      " |  __hash__ = None\n",
      "\n",
      "Help on class map in module builtins:\n",
      "\n",
      "class map(object)\n",
      " |  map(func, *iterables) --> map object\n",
      " |  \n",
      " |  Make an iterator that computes the function using arguments from\n",
      " |  each of the iterables.  Stops when the shortest iterable is exhausted.\n",
      " |  \n",
      " |  Methods defined here:\n",
      " |  \n",
      " |  __getattribute__(self, name, /)\n",
      " |      Return getattr(self, name).\n",
      " |  \n",
      " |  __iter__(self, /)\n",
      " |      Implement iter(self).\n",
      " |  \n",
      " |  __next__(self, /)\n",
      " |      Implement next(self).\n",
      " |  \n",
      " |  __reduce__(...)\n",
      " |      Return state information for pickling.\n",
      " |  \n",
      " |  ----------------------------------------------------------------------\n",
      " |  Static methods defined here:\n",
      " |  \n",
      " |  __new__(*args, **kwargs) from builtins.type\n",
      " |      Create and return a new object.  See help(type) for accurate signature.\n",
      "\n",
      "Help on built-in function chr in module builtins:\n",
      "\n",
      "chr(i, /)\n",
      "    Return a Unicode string of one character with ordinal i; 0 <= i <= 0x10ffff.\n",
      "\n"
     ]
    }
   ],
   "source": [
    "help(list)\n",
    "help(map)\n",
    "help(chr)"
   ]
  },
  {
   "cell_type": "code",
   "execution_count": 238,
   "id": "b30f7b10-08a0-4563-8122-3ca62de36720",
   "metadata": {},
   "outputs": [
    {
     "name": "stdout",
     "output_type": "stream",
     "text": [
      "['a', 'b', 'c', 'd', 'e', 'f', 'g', 'h', 'i', 'j', 'k', 'l', 'm', 'n', 'o', 'p', 'q', 'r', 's', 't']\n",
      "____________________________________________________________________________________________________\n"
     ]
    }
   ],
   "source": [
    "print(lst_n)\n",
    "print('_'*100)\n"
   ]
  },
  {
   "cell_type": "code",
   "execution_count": null,
   "id": "d83e0068-e7e4-4b36-bca7-7ef12b6daae0",
   "metadata": {},
   "outputs": [],
   "source": []
  },
  {
   "cell_type": "code",
   "execution_count": null,
   "id": "f5b6bcf2-8fcb-468a-9afa-b0863e562c8e",
   "metadata": {},
   "outputs": [],
   "source": []
  },
  {
   "cell_type": "code",
   "execution_count": null,
   "id": "56f8360d-9f85-4def-9ce6-986bfeb0f35f",
   "metadata": {},
   "outputs": [],
   "source": []
  }
 ],
 "metadata": {
  "kernelspec": {
   "display_name": "Python 3",
   "language": "python",
   "name": "python3"
  },
  "language_info": {
   "codemirror_mode": {
    "name": "ipython",
    "version": 3
   },
   "file_extension": ".py",
   "mimetype": "text/x-python",
   "name": "python",
   "nbconvert_exporter": "python",
   "pygments_lexer": "ipython3",
   "version": "3.8.8"
  }
 },
 "nbformat": 4,
 "nbformat_minor": 5
}
