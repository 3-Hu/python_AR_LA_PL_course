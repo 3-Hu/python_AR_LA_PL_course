{
 "cells": [
  {
   "cell_type": "code",
   "execution_count": 105,
   "id": "5f609a81-a7f5-470f-b46a-c70c46fe0abc",
   "metadata": {},
   "outputs": [
    {
     "name": "stdout",
     "output_type": "stream",
     "text": [
      "Hello XAUAT!\n",
      "Let's start to learn python.\n",
      "(It's so hard to learn.)\n",
      "~~~~~~~~~~~~~~~~~~~~~~~~~~~~~~~~~~~~~~~~~~~~~~~~~~~~~~~~~~~~~~~~~~~~~~~~~~~~~~~~~~~~~~~~~~~~~~~~~~~~\n",
      "~*100\n"
     ]
    }
   ],
   "source": [
    "print(\"Hello XAUAT!\") #print打印、输入；（）内的内容；字符串加“ ” \n",
    "print(\"Let's start to learn python.\")\n",
    "print(\"(It's so hard to learn.)\")\n",
    "print(\"~\"*100) #字符串*数量（注意加引号的位置）\n",
    "print(\"~*100\") #错误演示 红色内容电脑不加翻译"
   ]
  },
  {
   "cell_type": "code",
   "execution_count": 56,
   "id": "8797114d-43eb-4752-8e9b-81667fba0173",
   "metadata": {},
   "outputs": [
    {
     "name": "stdout",
     "output_type": "stream",
     "text": [
      "加 -1\n",
      "减 1\n",
      "-1\n",
      "除 0.5\n",
      "乘 18\n",
      "整除 2\n",
      "幂 125\n",
      "余数 3\n"
     ]
    }
   ],
   "source": [
    "#简单运算\n",
    "print(\"加\",-3+2) #负号不影响 连续输出内容用，连接\n",
    "print('减',3-2)\n",
    "print(1-2)\n",
    "print(\"除\",3/6)\n",
    "print('乘',3*6)\n",
    "print('整除',5//2) #//整除，5//2（5里最多有几个2）\n",
    "print('幂',5**3) #**幂运算，5的3次方\n",
    "print('余数',71%4)"
   ]
  },
  {
   "cell_type": "code",
   "execution_count": 69,
   "id": "c8301818-31a8-441e-85bd-d6cbe27f5455",
   "metadata": {},
   "outputs": [
    {
     "name": "stdout",
     "output_type": "stream",
     "text": [
      "0\n",
      "3\n",
      "1\n",
      "0\n",
      "1\n",
      "True\n",
      "True\n",
      "False\n",
      "False\n"
     ]
    }
   ],
   "source": [
    "print(1&2) #&和运算，a&b 如果a和b均为True，则结果为True否则为false,对于整数，执行按位与操作\n",
    "print(3&3)\n",
    "print(9&1) #?\n",
    "print(2^2)\n",
    "print(3^2)\n",
    "print(2==2)\n",
    "print(1<=2)\n",
    "print(1==2&1<=2)\n",
    "print(2==2^2==2)"
   ]
  },
  {
   "cell_type": "code",
   "execution_count": 77,
   "id": "bd2951d6-ffb7-4e85-a3b5-77842363013b",
   "metadata": {},
   "outputs": [
    {
     "ename": "NameError",
     "evalue": "name 'x' is not defined",
     "output_type": "error",
     "traceback": [
      "\u001b[1;31m---------------------------------------------------------------------------\u001b[0m",
      "\u001b[1;31mNameError\u001b[0m                                 Traceback (most recent call last)",
      "\u001b[1;32m<ipython-input-77-2acf486dedbe>\u001b[0m in \u001b[0;36m<module>\u001b[1;34m\u001b[0m\n\u001b[1;32m----> 1\u001b[1;33m \u001b[0mfunc\u001b[0m\u001b[1;33m=\u001b[0m\u001b[1;36m2\u001b[0m\u001b[1;33m*\u001b[0m\u001b[0mx\u001b[0m\u001b[1;33m+\u001b[0m\u001b[1;36m1\u001b[0m \u001b[1;31m#当程序逐行从上至下运行时，注意变量定义的顺序\u001b[0m\u001b[1;33m\u001b[0m\u001b[1;33m\u001b[0m\u001b[0m\n\u001b[0m\u001b[0;32m      2\u001b[0m \u001b[0mx\u001b[0m\u001b[1;33m=\u001b[0m\u001b[1;36m5\u001b[0m\u001b[1;33m\u001b[0m\u001b[1;33m\u001b[0m\u001b[0m\n\u001b[0;32m      3\u001b[0m \u001b[0mprint\u001b[0m\u001b[1;33m(\u001b[0m\u001b[0mfunc\u001b[0m\u001b[1;33m)\u001b[0m\u001b[1;33m\u001b[0m\u001b[1;33m\u001b[0m\u001b[0m\n",
      "\u001b[1;31mNameError\u001b[0m: name 'x' is not defined"
     ]
    }
   ],
   "source": [
    "func=2*x+1 #当程序逐行从上至下运行时，注意变量定义的顺序\n",
    "x=5\n",
    "print(func)"
   ]
  },
  {
   "cell_type": "code",
   "execution_count": 152,
   "id": "c2c479ee-1e52-478b-a014-2f50ab3e582c",
   "metadata": {},
   "outputs": [
    {
     "name": "stdout",
     "output_type": "stream",
     "text": [
      "func=12\n"
     ]
    }
   ],
   "source": [
    "x=3\n",
    "func=x**2+2*x-3\n",
    "print(\"func=%.0f\"%func)#func=x**2+2x-3"
   ]
  },
  {
   "cell_type": "code",
   "execution_count": 162,
   "id": "fc916818-aef1-4255-97b1-8d8e6c9db19b",
   "metadata": {},
   "outputs": [
    {
     "name": "stdout",
     "output_type": "stream",
     "text": [
      "3\n"
     ]
    }
   ],
   "source": [
    "x,y=3,3\n",
    "func=x**2\n",
    "print(\"{}\".format(x,y,func))#func=x**2+2x-3"
   ]
  },
  {
   "cell_type": "code",
   "execution_count": 100,
   "id": "7075aad6-81f4-44ed-8329-fb84db1e09eb",
   "metadata": {},
   "outputs": [
    {
     "name": "stdout",
     "output_type": "stream",
     "text": [
      "12\n"
     ]
    }
   ],
   "source": [
    "x=3\n",
    "x=x+1\n",
    "func=x**2-4\n",
    "print(func)#func=x**2+2x-3"
   ]
  },
  {
   "cell_type": "code",
   "execution_count": 116,
   "id": "1ceed718-2d88-43ed-a340-4cc5885ccfc9",
   "metadata": {},
   "outputs": [
    {
     "name": "stdout",
     "output_type": "stream",
     "text": [
      "monadic_equation= 11\n",
      "monadic_equation=11.0000\n",
      "monadic_equation=11.00\n"
     ]
    }
   ],
   "source": [
    "x=5\n",
    "monadic_equation=2*x+1\n",
    "print(\"monadic_equation=\",monadic_equation)\n",
    "print(\"monadic_equation=%.4f\"%monadic_equation) #%字符串格式化方法 .nf小数点后n位\n",
    "print(\"monadic_equation={:.2f}\".format(monadic_equation)) #format()字符串格式化方法"
   ]
  },
  {
   "cell_type": "code",
   "execution_count": 109,
   "id": "38e9ddf0-f4ac-4607-b216-91a89b88488c",
   "metadata": {},
   "outputs": [
    {
     "name": "stdout",
     "output_type": "stream",
     "text": [
      "The longitude of the Xi'an coordinate is 108.94, and the latitude is 34.26.\n"
     ]
    }
   ],
   "source": [
    "city_name=\"Xi'an\"\n",
    "coordinate_longitude=108.942292\n",
    "coordiante_latitude=34.261013\n",
    "print(\"The longitude of the Xi'an coordinate is {lon:.2f}, and the latitude is {lat:.2f}.\".format(lon=coordinate_longitude,lat=coordiante_latitude))"
   ]
  },
  {
   "cell_type": "code",
   "execution_count": 155,
   "id": "799699da-d035-4454-b6b9-b9149d0bdb57",
   "metadata": {},
   "outputs": [
    {
     "name": "stdout",
     "output_type": "stream",
     "text": [
      "The longitude of the Xi'an coordinate is 108.94, and the latitude is 34.26.\n",
      "西安的经度是108.94，纬度是34.26。\n"
     ]
    }
   ],
   "source": [
    "city_name=\"Xi'an\"\n",
    "city_name_in_Chinese=\"西安\"\n",
    "coordinate_longitude=108.942292\n",
    "coordiante_latitude=34.261013\n",
    "print(\"The longitude of the {city_name} coordinate is {lon:.2f}, and the latitude is {lat:.2f}.\".format(city_name=city_name,lon=coordinate_longitude,lat=coordiante_latitude))\n",
    "print(\"{city_name_in_Chinese}的经度是{lon:.2f}，纬度是{lat:.2f}。\".format(city_name_in_Chinese=city_name_in_Chinese,lon=coordinate_longitude,lat=coordiante_latitude))\n",
    "#优化后可更改城市，可中文表示"
   ]
  },
  {
   "cell_type": "code",
   "execution_count": 171,
   "id": "842149ba-95d1-42aa-8885-a08e85f3d2fc",
   "metadata": {},
   "outputs": [
    {
     "name": "stdout",
     "output_type": "stream",
     "text": [
      "func_2=2\n"
     ]
    }
   ],
   "source": [
    "x,y,b=2,5,7 #unpacking 序列解包。尝试，x,y,*z=0,1,2,3,4,5,6; x,y,*z=0,1; (x,y),(a,b)=(0,1),(2,3)\n",
    "func_2=2*x+3*y+b\n",
    "print(\"func_2={}\".format(x,y,b,func_2))"
   ]
  },
  {
   "cell_type": "code",
   "execution_count": null,
   "id": "79cf6f16-a70f-42cc-8cad-d4b2ef0491ab",
   "metadata": {},
   "outputs": [],
   "source": []
  },
  {
   "cell_type": "code",
   "execution_count": null,
   "id": "5862bd79-9afd-4e32-b00a-d8722541883e",
   "metadata": {},
   "outputs": [],
   "source": []
  },
  {
   "cell_type": "code",
   "execution_count": null,
   "id": "70023be6-5499-4177-a8e0-defc0401bc8f",
   "metadata": {},
   "outputs": [],
   "source": []
  },
  {
   "cell_type": "code",
   "execution_count": null,
   "id": "b30f7b10-08a0-4563-8122-3ca62de36720",
   "metadata": {},
   "outputs": [],
   "source": []
  }
 ],
 "metadata": {
  "kernelspec": {
   "display_name": "Python 3",
   "language": "python",
   "name": "python3"
  },
  "language_info": {
   "codemirror_mode": {
    "name": "ipython",
    "version": 3
   },
   "file_extension": ".py",
   "mimetype": "text/x-python",
   "name": "python",
   "nbconvert_exporter": "python",
   "pygments_lexer": "ipython3",
   "version": "3.8.8"
  }
 },
 "nbformat": 4,
 "nbformat_minor": 5
}
