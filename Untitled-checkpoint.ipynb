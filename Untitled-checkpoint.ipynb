{
 "cells": [
  {
   "cell_type": "code",
   "execution_count": 105,
   "id": "5f609a81-a7f5-470f-b46a-c70c46fe0abc",
   "metadata": {},
   "outputs": [
    {
     "name": "stdout",
     "output_type": "stream",
     "text": [
      "Hello XAUAT!\n",
      "Let's start to learn python.\n",
      "(It's so hard to learn.)\n",
      "~~~~~~~~~~~~~~~~~~~~~~~~~~~~~~~~~~~~~~~~~~~~~~~~~~~~~~~~~~~~~~~~~~~~~~~~~~~~~~~~~~~~~~~~~~~~~~~~~~~~\n",
      "~*100\n"
     ]
    }
   ],
   "source": [
    "print(\"Hello XAUAT!\") #print打印、输入；（）内的内容；字符串加“ ” \n",
    "print(\"Let's start to learn python.\")\n",
    "print(\"(It's so hard to learn.)\")\n",
    "print(\"~\"*100) #字符串*数量（注意加引号的位置）\n",
    "print(\"~*100\") #红色内容电脑不加翻译"
   ]
  },
  {
   "cell_type": "code",
   "execution_count": 56,
   "id": "8797114d-43eb-4752-8e9b-81667fba0173",
   "metadata": {},
   "outputs": [
    {
     "name": "stdout",
     "output_type": "stream",
     "text": [
      "加 -1\n",
      "减 1\n",
      "-1\n",
      "除 0.5\n",
      "乘 18\n",
      "整除 2\n",
      "幂 125\n",
      "余数 3\n"
     ]
    }
   ],
   "source": [
    "#简单运算\n",
    "print(\"加\",-3+2) #负号不影响 连续输出内容用，连接\n",
    "print('减',3-2)\n",
    "print(1-2)\n",
    "print(\"除\",3/6)\n",
    "print('乘',3*6)\n",
    "print('整除',5//2) #//整除，5//2（5里最多有几个2）\n",
    "print('幂',5**3) #**幂运算，5的3次方\n",
    "print('余数',71%4)"
   ]
  },
  {
   "cell_type": "code",
   "execution_count": 69,
   "id": "c8301818-31a8-441e-85bd-d6cbe27f5455",
   "metadata": {},
   "outputs": [
    {
     "name": "stdout",
     "output_type": "stream",
     "text": [
      "0\n",
      "3\n",
      "1\n",
      "0\n",
      "1\n",
      "True\n",
      "True\n",
      "False\n",
      "False\n"
     ]
    }
   ],
   "source": [
    "print(1&2) #&和运算，a&b 如果a和b均为True，则结果为True否则为false,对于整数，执行按位与操作\n",
    "print(3&3)\n",
    "print(9&1) #?\n",
    "print(2^2)\n",
    "print(3^2)\n",
    "print(2==2)\n",
    "print(1<=2)\n",
    "print(1==2&1<=2)\n",
    "print(2==2^2==2)"
   ]
  },
  {
   "cell_type": "code",
   "execution_count": 77,
   "id": "bd2951d6-ffb7-4e85-a3b5-77842363013b",
   "metadata": {},
   "outputs": [
    {
     "ename": "NameError",
     "evalue": "name 'x' is not defined",
     "output_type": "error",
     "traceback": [
      "\u001b[1;31m---------------------------------------------------------------------------\u001b[0m",
      "\u001b[1;31mNameError\u001b[0m                                 Traceback (most recent call last)",
      "\u001b[1;32m<ipython-input-77-2acf486dedbe>\u001b[0m in \u001b[0;36m<module>\u001b[1;34m\u001b[0m\n\u001b[1;32m----> 1\u001b[1;33m \u001b[0mfunc\u001b[0m\u001b[1;33m=\u001b[0m\u001b[1;36m2\u001b[0m\u001b[1;33m*\u001b[0m\u001b[0mx\u001b[0m\u001b[1;33m+\u001b[0m\u001b[1;36m1\u001b[0m \u001b[1;31m#当程序逐行从上至下运行时，注意变量定义的顺序\u001b[0m\u001b[1;33m\u001b[0m\u001b[1;33m\u001b[0m\u001b[0m\n\u001b[0m\u001b[0;32m      2\u001b[0m \u001b[0mx\u001b[0m\u001b[1;33m=\u001b[0m\u001b[1;36m5\u001b[0m\u001b[1;33m\u001b[0m\u001b[1;33m\u001b[0m\u001b[0m\n\u001b[0;32m      3\u001b[0m \u001b[0mprint\u001b[0m\u001b[1;33m(\u001b[0m\u001b[0mfunc\u001b[0m\u001b[1;33m)\u001b[0m\u001b[1;33m\u001b[0m\u001b[1;33m\u001b[0m\u001b[0m\n",
      "\u001b[1;31mNameError\u001b[0m: name 'x' is not defined"
     ]
    }
   ],
   "source": [
    "func=2*x+1 #当程序逐行从上至下运行时，注意变量定义的顺序\n",
    "x=5\n",
    "print(func)"
   ]
  },
  {
   "cell_type": "code",
   "execution_count": 152,
   "id": "c2c479ee-1e52-478b-a014-2f50ab3e582c",
   "metadata": {},
   "outputs": [
    {
     "name": "stdout",
     "output_type": "stream",
     "text": [
      "func=12\n"
     ]
    }
   ],
   "source": [
    "x=3\n",
    "func=x**2+2*x-3\n",
    "print(\"func=%.0f\"%func)#func=x**2+2x-3"
   ]
  },
  {
   "cell_type": "code",
   "execution_count": 162,
   "id": "fc916818-aef1-4255-97b1-8d8e6c9db19b",
   "metadata": {},
   "outputs": [
    {
     "name": "stdout",
     "output_type": "stream",
     "text": [
      "3\n"
     ]
    }
   ],
   "source": [
    "x,y=3,3\n",
    "func=x**2\n",
    "print(\"{}\".format(x,y,func))#func=x**2+2x-3"
   ]
  },
  {
   "cell_type": "code",
   "execution_count": 100,
   "id": "7075aad6-81f4-44ed-8329-fb84db1e09eb",
   "metadata": {},
   "outputs": [
    {
     "name": "stdout",
     "output_type": "stream",
     "text": [
      "12\n"
     ]
    }
   ],
   "source": [
    "x=3\n",
    "x=x+1\n",
    "func=x**2-4\n",
    "print(func)#func=x**2+2x-3"
   ]
  },
  {
   "cell_type": "code",
   "execution_count": 116,
   "id": "1ceed718-2d88-43ed-a340-4cc5885ccfc9",
   "metadata": {},
   "outputs": [
    {
     "name": "stdout",
     "output_type": "stream",
     "text": [
      "monadic_equation= 11\n",
      "monadic_equation=11.0000\n",
      "monadic_equation=11.00\n"
     ]
    }
   ],
   "source": [
    "x=5\n",
    "monadic_equation=2*x+1\n",
    "print(\"monadic_equation=\",monadic_equation)\n",
    "print(\"monadic_equation=%.4f\"%monadic_equation) #%字符串格式化方法 .nf小数点后n位\n",
    "print(\"monadic_equation={:.2f}\".format(monadic_equation)) #format()字符串格式化方法"
   ]
  },
  {
   "cell_type": "code",
   "execution_count": 109,
   "id": "38e9ddf0-f4ac-4607-b216-91a89b88488c",
   "metadata": {},
   "outputs": [
    {
     "name": "stdout",
     "output_type": "stream",
     "text": [
      "The longitude of the Xi'an coordinate is 108.94, and the latitude is 34.26.\n"
     ]
    }
   ],
   "source": [
    "city_name=\"Xi'an\"\n",
    "coordinate_longitude=108.942292\n",
    "coordiante_latitude=34.261013\n",
    "print(\"The longitude of the Xi'an coordinate is {lon:.2f}, and the latitude is {lat:.2f}.\".format(lon=coordinate_longitude,lat=coordiante_latitude))"
   ]
  },
  {
   "cell_type": "code",
   "execution_count": 155,
   "id": "799699da-d035-4454-b6b9-b9149d0bdb57",
   "metadata": {},
   "outputs": [
    {
     "name": "stdout",
     "output_type": "stream",
     "text": [
      "The longitude of the Xi'an coordinate is 108.94, and the latitude is 34.26.\n",
      "西安的经度是108.94，纬度是34.26。\n"
     ]
    }
   ],
   "source": [
    "city_name=\"Xi'an\"\n",
    "city_name_in_Chinese=\"西安\"\n",
    "coordinate_longitude=108.942292\n",
    "coordiante_latitude=34.261013\n",
    "print(\"The longitude of the {city_name} coordinate is {lon:.2f}, and the latitude is {lat:.2f}.\".format(city_name=city_name,lon=coordinate_longitude,lat=coordiante_latitude))\n",
    "print(\"{city_name_in_Chinese}的经度是{lon:.2f}，纬度是{lat:.2f}。\".format(city_name_in_Chinese=city_name_in_Chinese,lon=coordinate_longitude,lat=coordiante_latitude))\n",
    "#优化后可更改城市，可中文表示"
   ]
  },
  {
   "cell_type": "code",
   "execution_count": 188,
   "id": "842149ba-95d1-42aa-8885-a08e85f3d2fc",
   "metadata": {},
   "outputs": [
    {
     "name": "stdout",
     "output_type": "stream",
     "text": [
      "func_2=26\n",
      "func_2=18\n",
      "func_2=53\n",
      "func_2=8\n"
     ]
    }
   ],
   "source": [
    "x,y,b=2,5,7 #unpacking 序列解包。尝试，x,y,*z=0,1,2,3,4,5,6; x,y,*z=0,1; (x,y),(a,b)=(0,1),(2,3)\n",
    "func_2=2*x+3*y+b\n",
    "print(\"func_2={}\".format(func_2))\n",
    "x,y,*z=4,1,2,3,4,5,6 #unpacking 序列解包。尝试，x,y,*z=0,1,2,3,4,5,6; x,y,*z=0,1; (x,y),(a,b)=(0,1),(2,3)\n",
    "func_2=2*x+3*y+b\n",
    "print(\"func_2={}\".format(func_2))\n",
    "x,y,*z=10,1\n",
    "func_2=2*x+3*y+3*x\n",
    "print(\"func_2={}\".format(func_2))\n",
    "(x,y),(a,b)=(0,1),(2,3)\n",
    "func_2=2*x+3*y+b+a\n",
    "print(\"func_2={}\".format(func_2))"
   ]
  },
  {
   "cell_type": "code",
   "execution_count": 192,
   "id": "79cf6f16-a70f-42cc-8cad-d4b2ef0491ab",
   "metadata": {},
   "outputs": [
    {
     "name": "stdout",
     "output_type": "stream",
     "text": [
      "[1, 4, 7, 10, 13, 16, 19, 22, 25, 28, 31, 34, 37, 40, 43, 46, 49, 52, 55, 58, 61, 64, 67, 70, 73, 76, 79, 82, 85, 88, 91, 94, 97]\n",
      "The list length=33\n",
      "Maximum value=97\n",
      "Minimum value=1\n"
     ]
    }
   ],
   "source": [
    "lst_n=list(range(1,100,3)) #建立列表。range(start,stop,step)建立区间。\n",
    "print(lst_n)\n",
    "print(\"The list length={}\".format(len(lst_n)))#数量,长度\n",
    "print(\"Maximum value={}\".format(max(lst_n)))#最大值\n",
    "print(\"Minimum value={}\".format(min(lst_n)))#最小值"
   ]
  },
  {
   "cell_type": "code",
   "execution_count": 241,
   "id": "5862bd79-9afd-4e32-b00a-d8722541883e",
   "metadata": {},
   "outputs": [
    {
     "name": "stdout",
     "output_type": "stream",
     "text": [
      "['a', 'b', 'c', 'd', 'e', 'f', 'g', 'h', 'i', 'j', 'k', 'l', 'm', 'n', 'o', 'p', 'q', 'r', 's', 't']\n",
      "__________________________________________________\n",
      "[0:6]：['a', 'b', 'c', 'd', 'e', 'f']\n",
      "[-3,-1]：['r', 's']\n",
      "[2:]：['c', 'd', 'e', 'f', 'g', 'h', 'i', 'j', 'k', 'l', 'm', 'n', 'o', 'p', 'q', 'r', 's', 't']\n",
      "[:]：['a', 'b', 'c', 'd', 'e', 'f', 'g', 'h', 'i', 'j', 'k', 'l', 'm', 'n', 'o', 'p', 'q', 'r', 's', 't']\n"
     ]
    }
   ],
   "source": [
    "lst_n=list(map(chr,range(97,117)))#range是列举范围内全部\n",
    "print(lst_n)\n",
    "print('_'*50)\n",
    "print('[0:6]：{}'.format(lst_n[0:6]))#0也占位置\n",
    "print('[-3,-1]：{}'.format(lst_n[-3:-1]))#负号倒序\n",
    "print('[2:]：{}'.format(lst_n[2:]))#从2到最后[2:]\n",
    "print('[:]：{}'.format(lst_n[:]))#从开始到最后[:]"
   ]
  },
  {
   "cell_type": "code",
   "execution_count": 81,
   "id": "70023be6-5499-4177-a8e0-defc0401bc8f",
   "metadata": {},
   "outputs": [],
   "source": [
    "#help(list)\n",
    "#help(map)\n",
    "#help(chr)"
   ]
  },
  {
   "cell_type": "code",
   "execution_count": 90,
   "id": "b30f7b10-08a0-4563-8122-3ca62de36720",
   "metadata": {},
   "outputs": [
    {
     "name": "stdout",
     "output_type": "stream",
     "text": [
      "['a', 'b', 'c', 'd', 'e', 'f', 'g', 'h', 'i', 'j', 'k', 'l', 'm', 'n', 'o', 'p', 'q', 'r', 's', 't']\n",
      "__________________________________________________\n",
      "[::3]：['a', 'd', 'g', 'j', 'm', 'p', 's']\n",
      "lst_a,['a', 'd', 'g', 'j', 'm', 'p', 's']\n",
      "lst_a,['a', 'd', 9, 'j', 'm', 'p', 's']\n",
      "lst_b,['a', 'd', 9, 'j', 'm', 'p', 's', 0, 0, 0]\n",
      "lst_b[-1]=13,['a', 'd', 9, 'j', 'm', 'p', 's', 0, 0, 13]\n",
      "lst_b[:3]=list(range(100,105,1)),[100, 101, 102, 103, 104, 'j', 'm', 'p', 's', 0, 0, 13]\n",
      "lst_b[0:0]=[1,1,3],[100, 1, 1, 3, 104, 'j', 'm', 'p', 's', 0, 0, 13]\n",
      "__________________________________________________\n",
      "del lst_b[3:-2],[100, 1, 1, 0, 13]\n"
     ]
    }
   ],
   "source": [
    "lst_n=list(map(chr,range(97,117)))\n",
    "print(lst_n)\n",
    "print('_'*50)\n",
    "print('[::3]：{}'.format(lst_n[::3]))#全部范围中每3个取一个\n",
    "lst_a=list(map(chr,range(97,117,3)))#全部范围中每3个取一个\n",
    "print('lst_a,{}'.format(lst_a))\n",
    "lst_a[2]=9#赋值第3项为9\n",
    "print('lst_a,{}'.format(lst_a))\n",
    "lst_b=lst_a+[0]*3\n",
    "print('lst_b,{}'.format(lst_b))\n",
    "lst_b[-1]=13\n",
    "print('lst_b[-1]=13,{}'.format(lst_b))\n",
    "lst_b[:3]=list(range(100,105,1))#分片赋值\n",
    "print('lst_b[:3]=list(range(100,105,1)),{}'.format(lst_b))\n",
    "lst_b[1:4]=[1,1,3]#替换元素\n",
    "print('lst_b[0:0]=[1,1,3],{}'.format(lst_b))\n",
    "print('_'*50)\n",
    "del lst_b[3:-2]#删除元素\n",
    "print('del lst_b[3:-2],{}'.format(lst_b))\n",
    "#del lst_b[-1:]#删除元素\n",
    "#print('del lst_b[-1:],{}'.format(lst_b))"
   ]
  },
  {
   "cell_type": "code",
   "execution_count": 147,
   "id": "d83e0068-e7e4-4b36-bca7-7ef12b6daae0",
   "metadata": {},
   "outputs": [
    {
     "name": "stdout",
     "output_type": "stream",
     "text": [
      "[1, 4, 7, 10, 13, 16, 19, 22, 25, 28, 31, 34, 37, 40, 43, 46, 49, 52, 55, 58, 61, 64, 67, 70, 73, 76, 79, 82, 85, 88, 91, 94, 97]\n",
      "__________________________________________________\n",
      "lst_a_1.append(list(range(100,110,2)))--->[1, 4, 7, 10, 13, 16, 19, 22, 25, 28, 31, 34, 37, 40, 43, 46, 49, 52, 55, 58, 61, 64, 67, 70, 73, 76, 79, 82, 85, 88, 91, 94, 97, [100, 102, 104, 106, 108]]\n",
      "lst_a_2= ['a', 'a', 'a', 'b', 'b']\n",
      "lst_a_1.extend(lst_a_2)--->[1, 4, 7, 10, 13, 16, 19, 22, 25, 28, 31, 34, 37, 40, 43, 46, 49, 52, 55, 58, 61, 64, 67, 70, 73, 76, 79, 82, 85, 88, 91, 94, 97, [100, 102, 104, 106, 108], 'a', 'a', 'a', 'b', 'b']\n",
      "lst_a_1.count('a')--->3\n",
      "lst_a_1.index(52)=17\n",
      "lst_a_1.insert(2,[1000,1200,1500])=[1, 4, [1000, 1200, 1500], 7, 10, 13, 16, 19, 22, 25, 28, 31, 34, 37, 40, 43, 46, 49, 52, 55, 58, 61, 64, 67, 70, 73, 76, 79, 82, 85, 88, 91, 94, 97, [100, 102, 104, 106, 108], 'a', 'a', 'a', 'b', 'b']\n",
      "__________________________________________________\n",
      "[1, 4, [1000, 1200, 1500], 7, 10, 13, 16, 19, 22, 25, 28, 31, 34, 37, 40, 43, 46, 49, 52, 55, 58, 61, 64, 67, 70, 73, 76, 79, 82, 85, 88, 91, 94, 97, [100, 102, 104, 106, 108], 'a', 'a', 'a', 'b', 'b']\n",
      "lst_a_1.pop(2)_popup=[1000, 1200, 1500]\n",
      "lst_a_1.pop(2)_retention=[1, 4, 7, 10, 13, 16, 19, 22, 25, 28, 31, 34, 37, 40, 43, 46, 49, 52, 55, 58, 61, 64, 67, 70, 73, 76, 79, 82, 85, 88, 91, 94, 97, [100, 102, 104, 106, 108], 'a', 'a', 'a', 'b', 'b']\n",
      "lst_a_1.remove('a')_retention=[1, 4, 7, 10, 13, 16, 19, 22, 25, 28, 31, 34, 37, 40, 43, 46, 49, 52, 55, 58, 61, 64, 67, 70, 73, 76, 79, 82, 85, 88, 91, 94, 97, [100, 102, 104, 106, 108], 'a', 'a', 'b', 'b']\n",
      "__________________________________________________\n",
      "lst_a_3=[2, 4, 6, 3, 7, 3, 1, 16, 9, 35, 14]\n",
      "lst_a_3.sort()=[1, 2, 3, 3, 4, 6, 7, 9, 14, 16, 35]\n"
     ]
    }
   ],
   "source": [
    "lst_a_1=list(range(1,100,3))\n",
    "print(lst_a_1)\n",
    "print('_'*50)\n",
    "#lst_a_1.append(100)#扩展列表，在末尾添加\n",
    "#print('lst_a_1.append(100)--->{}'.format(lst_a_1))\n",
    "lst_a_1.append(list(range(100,110,2)))#扩展列表，在末尾添加\n",
    "print('lst_a_1.append(list(range(100,110,2)))--->{}'.format(lst_a_1))\n",
    "lst_a_2=['a','a','a','b','b']\n",
    "print(\"lst_a_2=\",lst_a_2)\n",
    "lst_a_1.extend(lst_a_2)#合并两个列表\n",
    "print('lst_a_1.extend(lst_a_2)--->{}'.format(lst_a_1))\n",
    "print(\"lst_a_1.count('a')--->{}\".format(lst_a_1.count('a')))#count()计数工具\n",
    "print(\"lst_a_1.index(52)={}\".format(lst_a_1.index(52)))#index()索引工具\n",
    "lst_a_1.insert(2,[1000,1200,1500])#insert(a,b)在a位置插入b,一次只能插入一项\n",
    "print(\"lst_a_1.insert(2,[1000,1200,1500])={}\".format(lst_a_1))\n",
    "print(\"_\"*50)\n",
    "print(lst_a_1)\n",
    "print(\"lst_a_1.pop(2)_popup={}\".format(lst_a_1.pop(2)))#pop()弹出、提取、删除元素,一次只能提取一项\n",
    "print(\"lst_a_1.pop(2)_retention={}\".format(lst_a_1))#pop()后保留部分已不含提取出的元素\n",
    "lst_a_1.remove('a')#remove()删除某值的第一个匹配项\n",
    "print(\"lst_a_1.remove('a')_retention={}\".format(lst_a_1))\n",
    "print(\"_\"*50)\n",
    "lst_a_3=[2,4,6,3,7,3,1,16,9,35,14]\n",
    "print(\"lst_a_3={}\".format(lst_a_3))\n",
    "lst_a_3.sort()#sort()排序\n",
    "print(\"lst_a_3.sort()={}\".format(lst_a_3))"
   ]
  },
  {
   "cell_type": "code",
   "execution_count": null,
   "id": "f5b6bcf2-8fcb-468a-9afa-b0863e562c8e",
   "metadata": {},
   "outputs": [],
   "source": []
  },
  {
   "cell_type": "code",
   "execution_count": null,
   "id": "56f8360d-9f85-4def-9ce6-986bfeb0f35f",
   "metadata": {},
   "outputs": [],
   "source": []
  },
  {
   "cell_type": "code",
   "execution_count": null,
   "id": "c9429deb-2007-4300-9d21-7d3e79f3d1b2",
   "metadata": {},
   "outputs": [],
   "source": []
  },
  {
   "cell_type": "code",
   "execution_count": null,
   "id": "ddaf5cae-524a-42cc-b755-6edcede2d5a7",
   "metadata": {},
   "outputs": [],
   "source": []
  },
  {
   "cell_type": "code",
   "execution_count": null,
   "id": "9c360956-2568-4dc8-901b-83ee65879aee",
   "metadata": {},
   "outputs": [],
   "source": []
  },
  {
   "cell_type": "code",
   "execution_count": null,
   "id": "fe57bf5d-7446-4682-9945-695c1d1569c8",
   "metadata": {},
   "outputs": [],
   "source": []
  },
  {
   "cell_type": "code",
   "execution_count": null,
   "id": "b1ae4009-a4ea-4f0f-80fa-b905b166d613",
   "metadata": {},
   "outputs": [],
   "source": []
  }
 ],
 "metadata": {
  "kernelspec": {
   "display_name": "Python 3",
   "language": "python",
   "name": "python3"
  },
  "language_info": {
   "codemirror_mode": {
    "name": "ipython",
    "version": 3
   },
   "file_extension": ".py",
   "mimetype": "text/x-python",
   "name": "python",
   "nbconvert_exporter": "python",
   "pygments_lexer": "ipython3",
   "version": "3.8.8"
  }
 },
 "nbformat": 4,
 "nbformat_minor": 5
}
