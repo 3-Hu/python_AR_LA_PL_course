{
 "cells": [
  {
   "cell_type": "code",
   "execution_count": 105,
   "id": "5f609a81-a7f5-470f-b46a-c70c46fe0abc",
   "metadata": {},
   "outputs": [
    {
     "name": "stdout",
     "output_type": "stream",
     "text": [
      "Hello XAUAT!\n",
      "Let's start to learn python.\n",
      "(It's so hard to learn.)\n",
      "~~~~~~~~~~~~~~~~~~~~~~~~~~~~~~~~~~~~~~~~~~~~~~~~~~~~~~~~~~~~~~~~~~~~~~~~~~~~~~~~~~~~~~~~~~~~~~~~~~~~\n",
      "~*100\n"
     ]
    }
   ],
   "source": [
    "print(\"Hello XAUAT!\") #print打印、输入；（）内的内容；字符串加“ ” \n",
    "print(\"Let's start to learn python.\")\n",
    "print(\"(It's so hard to learn.)\")\n",
    "print(\"~\"*100) #字符串*数量（注意加引号的位置）\n",
    "print(\"~*100\") #红色内容电脑不加翻译"
   ]
  },
  {
   "cell_type": "code",
   "execution_count": 56,
   "id": "8797114d-43eb-4752-8e9b-81667fba0173",
   "metadata": {},
   "outputs": [
    {
     "name": "stdout",
     "output_type": "stream",
     "text": [
      "加 -1\n",
      "减 1\n",
      "-1\n",
      "除 0.5\n",
      "乘 18\n",
      "整除 2\n",
      "幂 125\n",
      "余数 3\n"
     ]
    }
   ],
   "source": [
    "#简单运算\n",
    "print(\"加\",-3+2) #负号不影响 连续输出内容用，连接\n",
    "print('减',3-2)\n",
    "print(1-2)\n",
    "print(\"除\",3/6)\n",
    "print('乘',3*6)\n",
    "print('整除',5//2) #//整除，5//2（5里最多有几个2）\n",
    "print('幂',5**3) #**幂运算，5的3次方\n",
    "print('余数',71%4)"
   ]
  },
  {
   "cell_type": "code",
   "execution_count": 69,
   "id": "c8301818-31a8-441e-85bd-d6cbe27f5455",
   "metadata": {},
   "outputs": [
    {
     "name": "stdout",
     "output_type": "stream",
     "text": [
      "0\n",
      "3\n",
      "1\n",
      "0\n",
      "1\n",
      "True\n",
      "True\n",
      "False\n",
      "False\n"
     ]
    }
   ],
   "source": [
    "print(1&2) #&和运算，a&b 如果a和b均为True，则结果为True否则为false,对于整数，执行按位与操作\n",
    "print(3&3)\n",
    "print(9&1) #?\n",
    "print(2^2)\n",
    "print(3^2)\n",
    "print(2==2)\n",
    "print(1<=2)\n",
    "print(1==2&1<=2)\n",
    "print(2==2^2==2)"
   ]
  },
  {
   "cell_type": "code",
   "execution_count": 77,
   "id": "bd2951d6-ffb7-4e85-a3b5-77842363013b",
   "metadata": {},
   "outputs": [
    {
     "ename": "NameError",
     "evalue": "name 'x' is not defined",
     "output_type": "error",
     "traceback": [
      "\u001b[1;31m---------------------------------------------------------------------------\u001b[0m",
      "\u001b[1;31mNameError\u001b[0m                                 Traceback (most recent call last)",
      "\u001b[1;32m<ipython-input-77-2acf486dedbe>\u001b[0m in \u001b[0;36m<module>\u001b[1;34m\u001b[0m\n\u001b[1;32m----> 1\u001b[1;33m \u001b[0mfunc\u001b[0m\u001b[1;33m=\u001b[0m\u001b[1;36m2\u001b[0m\u001b[1;33m*\u001b[0m\u001b[0mx\u001b[0m\u001b[1;33m+\u001b[0m\u001b[1;36m1\u001b[0m \u001b[1;31m#当程序逐行从上至下运行时，注意变量定义的顺序\u001b[0m\u001b[1;33m\u001b[0m\u001b[1;33m\u001b[0m\u001b[0m\n\u001b[0m\u001b[0;32m      2\u001b[0m \u001b[0mx\u001b[0m\u001b[1;33m=\u001b[0m\u001b[1;36m5\u001b[0m\u001b[1;33m\u001b[0m\u001b[1;33m\u001b[0m\u001b[0m\n\u001b[0;32m      3\u001b[0m \u001b[0mprint\u001b[0m\u001b[1;33m(\u001b[0m\u001b[0mfunc\u001b[0m\u001b[1;33m)\u001b[0m\u001b[1;33m\u001b[0m\u001b[1;33m\u001b[0m\u001b[0m\n",
      "\u001b[1;31mNameError\u001b[0m: name 'x' is not defined"
     ]
    }
   ],
   "source": [
    "func=2*x+1 #当程序逐行从上至下运行时，注意变量定义的顺序\n",
    "x=5\n",
    "print(func)"
   ]
  },
  {
   "cell_type": "code",
   "execution_count": 152,
   "id": "c2c479ee-1e52-478b-a014-2f50ab3e582c",
   "metadata": {},
   "outputs": [
    {
     "name": "stdout",
     "output_type": "stream",
     "text": [
      "func=12\n"
     ]
    }
   ],
   "source": [
    "x=3\n",
    "func=x**2+2*x-3\n",
    "print(\"func=%.0f\"%func)#func=x**2+2x-3"
   ]
  },
  {
   "cell_type": "code",
   "execution_count": 162,
   "id": "fc916818-aef1-4255-97b1-8d8e6c9db19b",
   "metadata": {},
   "outputs": [
    {
     "name": "stdout",
     "output_type": "stream",
     "text": [
      "3\n"
     ]
    }
   ],
   "source": [
    "x,y=3,3\n",
    "func=x**2\n",
    "print(\"{}\".format(x,y,func))#func=x**2+2x-3"
   ]
  },
  {
   "cell_type": "code",
   "execution_count": 100,
   "id": "7075aad6-81f4-44ed-8329-fb84db1e09eb",
   "metadata": {},
   "outputs": [
    {
     "name": "stdout",
     "output_type": "stream",
     "text": [
      "12\n"
     ]
    }
   ],
   "source": [
    "x=3\n",
    "x=x+1\n",
    "func=x**2-4\n",
    "print(func)#func=x**2+2x-3"
   ]
  },
  {
   "cell_type": "code",
   "execution_count": 116,
   "id": "1ceed718-2d88-43ed-a340-4cc5885ccfc9",
   "metadata": {},
   "outputs": [
    {
     "name": "stdout",
     "output_type": "stream",
     "text": [
      "monadic_equation= 11\n",
      "monadic_equation=11.0000\n",
      "monadic_equation=11.00\n"
     ]
    }
   ],
   "source": [
    "x=5\n",
    "monadic_equation=2*x+1\n",
    "print(\"monadic_equation=\",monadic_equation)\n",
    "print(\"monadic_equation=%.4f\"%monadic_equation) #%字符串格式化方法 .nf小数点后n位\n",
    "print(\"monadic_equation={:.2f}\".format(monadic_equation)) #format()字符串格式化方法"
   ]
  },
  {
   "cell_type": "code",
   "execution_count": 109,
   "id": "38e9ddf0-f4ac-4607-b216-91a89b88488c",
   "metadata": {},
   "outputs": [
    {
     "name": "stdout",
     "output_type": "stream",
     "text": [
      "The longitude of the Xi'an coordinate is 108.94, and the latitude is 34.26.\n"
     ]
    }
   ],
   "source": [
    "city_name=\"Xi'an\"\n",
    "coordinate_longitude=108.942292\n",
    "coordiante_latitude=34.261013\n",
    "print(\"The longitude of the Xi'an coordinate is {lon:.2f}, and the latitude is {lat:.2f}.\".format(lon=coordinate_longitude,lat=coordiante_latitude))"
   ]
  },
  {
   "cell_type": "code",
   "execution_count": 155,
   "id": "799699da-d035-4454-b6b9-b9149d0bdb57",
   "metadata": {},
   "outputs": [
    {
     "name": "stdout",
     "output_type": "stream",
     "text": [
      "The longitude of the Xi'an coordinate is 108.94, and the latitude is 34.26.\n",
      "西安的经度是108.94，纬度是34.26。\n"
     ]
    }
   ],
   "source": [
    "city_name=\"Xi'an\"\n",
    "city_name_in_Chinese=\"西安\"\n",
    "coordinate_longitude=108.942292\n",
    "coordiante_latitude=34.261013\n",
    "print(\"The longitude of the {city_name} coordinate is {lon:.2f}, and the latitude is {lat:.2f}.\".format(city_name=city_name,lon=coordinate_longitude,lat=coordiante_latitude))\n",
    "print(\"{city_name_in_Chinese}的经度是{lon:.2f}，纬度是{lat:.2f}。\".format(city_name_in_Chinese=city_name_in_Chinese,lon=coordinate_longitude,lat=coordiante_latitude))\n",
    "#优化后可更改城市，可中文表示"
   ]
  },
  {
   "cell_type": "code",
   "execution_count": 188,
   "id": "842149ba-95d1-42aa-8885-a08e85f3d2fc",
   "metadata": {},
   "outputs": [
    {
     "name": "stdout",
     "output_type": "stream",
     "text": [
      "func_2=26\n",
      "func_2=18\n",
      "func_2=53\n",
      "func_2=8\n"
     ]
    }
   ],
   "source": [
    "x,y,b=2,5,7 #unpacking 序列解包。尝试，x,y,*z=0,1,2,3,4,5,6; x,y,*z=0,1; (x,y),(a,b)=(0,1),(2,3)\n",
    "func_2=2*x+3*y+b\n",
    "print(\"func_2={}\".format(func_2))\n",
    "x,y,*z=4,1,2,3,4,5,6 #unpacking 序列解包。尝试，x,y,*z=0,1,2,3,4,5,6; x,y,*z=0,1; (x,y),(a,b)=(0,1),(2,3)\n",
    "func_2=2*x+3*y+b\n",
    "print(\"func_2={}\".format(func_2))\n",
    "x,y,*z=10,1\n",
    "func_2=2*x+3*y+3*x\n",
    "print(\"func_2={}\".format(func_2))\n",
    "(x,y),(a,b)=(0,1),(2,3)\n",
    "func_2=2*x+3*y+b+a\n",
    "print(\"func_2={}\".format(func_2))"
   ]
  },
  {
   "cell_type": "code",
   "execution_count": 192,
   "id": "79cf6f16-a70f-42cc-8cad-d4b2ef0491ab",
   "metadata": {},
   "outputs": [
    {
     "name": "stdout",
     "output_type": "stream",
     "text": [
      "[1, 4, 7, 10, 13, 16, 19, 22, 25, 28, 31, 34, 37, 40, 43, 46, 49, 52, 55, 58, 61, 64, 67, 70, 73, 76, 79, 82, 85, 88, 91, 94, 97]\n",
      "The list length=33\n",
      "Maximum value=97\n",
      "Minimum value=1\n"
     ]
    }
   ],
   "source": [
    "lst_n=list(range(1,100,3)) #建立列表。range(start,stop,step)建立区间。\n",
    "print(lst_n)\n",
    "print(\"The list length={}\".format(len(lst_n)))#数量,长度\n",
    "print(\"Maximum value={}\".format(max(lst_n)))#最大值\n",
    "print(\"Minimum value={}\".format(min(lst_n)))#最小值"
   ]
  },
  {
   "cell_type": "code",
   "execution_count": 241,
   "id": "5862bd79-9afd-4e32-b00a-d8722541883e",
   "metadata": {},
   "outputs": [
    {
     "name": "stdout",
     "output_type": "stream",
     "text": [
      "['a', 'b', 'c', 'd', 'e', 'f', 'g', 'h', 'i', 'j', 'k', 'l', 'm', 'n', 'o', 'p', 'q', 'r', 's', 't']\n",
      "__________________________________________________\n",
      "[0:6]：['a', 'b', 'c', 'd', 'e', 'f']\n",
      "[-3,-1]：['r', 's']\n",
      "[2:]：['c', 'd', 'e', 'f', 'g', 'h', 'i', 'j', 'k', 'l', 'm', 'n', 'o', 'p', 'q', 'r', 's', 't']\n",
      "[:]：['a', 'b', 'c', 'd', 'e', 'f', 'g', 'h', 'i', 'j', 'k', 'l', 'm', 'n', 'o', 'p', 'q', 'r', 's', 't']\n"
     ]
    }
   ],
   "source": [
    "lst_n=list(map(chr,range(97,117)))#range是列举范围内全部\n",
    "print(lst_n)\n",
    "print('_'*50)\n",
    "print('[0:6]：{}'.format(lst_n[0:6]))#0也占位置\n",
    "print('[-3,-1]：{}'.format(lst_n[-3:-1]))#负号倒序\n",
    "print('[2:]：{}'.format(lst_n[2:]))#从2到最后[2:]\n",
    "print('[:]：{}'.format(lst_n[:]))#从开始到最后[:]"
   ]
  },
  {
   "cell_type": "code",
   "execution_count": 81,
   "id": "70023be6-5499-4177-a8e0-defc0401bc8f",
   "metadata": {},
   "outputs": [],
   "source": [
    "#help(list)\n",
    "#help(map)\n",
    "#help(chr)"
   ]
  },
  {
   "cell_type": "code",
   "execution_count": 90,
   "id": "b30f7b10-08a0-4563-8122-3ca62de36720",
   "metadata": {},
   "outputs": [
    {
     "name": "stdout",
     "output_type": "stream",
     "text": [
      "['a', 'b', 'c', 'd', 'e', 'f', 'g', 'h', 'i', 'j', 'k', 'l', 'm', 'n', 'o', 'p', 'q', 'r', 's', 't']\n",
      "__________________________________________________\n",
      "[::3]：['a', 'd', 'g', 'j', 'm', 'p', 's']\n",
      "lst_a,['a', 'd', 'g', 'j', 'm', 'p', 's']\n",
      "lst_a,['a', 'd', 9, 'j', 'm', 'p', 's']\n",
      "lst_b,['a', 'd', 9, 'j', 'm', 'p', 's', 0, 0, 0]\n",
      "lst_b[-1]=13,['a', 'd', 9, 'j', 'm', 'p', 's', 0, 0, 13]\n",
      "lst_b[:3]=list(range(100,105,1)),[100, 101, 102, 103, 104, 'j', 'm', 'p', 's', 0, 0, 13]\n",
      "lst_b[0:0]=[1,1,3],[100, 1, 1, 3, 104, 'j', 'm', 'p', 's', 0, 0, 13]\n",
      "__________________________________________________\n",
      "del lst_b[3:-2],[100, 1, 1, 0, 13]\n"
     ]
    }
   ],
   "source": [
    "lst_n=list(map(chr,range(97,117)))\n",
    "print(lst_n)\n",
    "print('_'*50)\n",
    "print('[::3]：{}'.format(lst_n[::3]))#全部范围中每3个取一个\n",
    "lst_a=list(map(chr,range(97,117,3)))#全部范围中每3个取一个\n",
    "print('lst_a,{}'.format(lst_a))\n",
    "lst_a[2]=9#赋值第3项为9\n",
    "print('lst_a,{}'.format(lst_a))\n",
    "lst_b=lst_a+[0]*3\n",
    "print('lst_b,{}'.format(lst_b))\n",
    "lst_b[-1]=13\n",
    "print('lst_b[-1]=13,{}'.format(lst_b))\n",
    "lst_b[:3]=list(range(100,105,1))#分片赋值\n",
    "print('lst_b[:3]=list(range(100,105,1)),{}'.format(lst_b))\n",
    "lst_b[1:4]=[1,1,3]#替换元素\n",
    "print('lst_b[0:0]=[1,1,3],{}'.format(lst_b))\n",
    "print('_'*50)\n",
    "del lst_b[3:-2]#删除元素\n",
    "print('del lst_b[3:-2],{}'.format(lst_b))\n",
    "#del lst_b[-1:]#删除元素\n",
    "#print('del lst_b[-1:],{}'.format(lst_b))"
   ]
  },
  {
   "cell_type": "code",
   "execution_count": 147,
   "id": "d83e0068-e7e4-4b36-bca7-7ef12b6daae0",
   "metadata": {},
   "outputs": [
    {
     "name": "stdout",
     "output_type": "stream",
     "text": [
      "[1, 4, 7, 10, 13, 16, 19, 22, 25, 28, 31, 34, 37, 40, 43, 46, 49, 52, 55, 58, 61, 64, 67, 70, 73, 76, 79, 82, 85, 88, 91, 94, 97]\n",
      "__________________________________________________\n",
      "lst_a_1.append(list(range(100,110,2)))--->[1, 4, 7, 10, 13, 16, 19, 22, 25, 28, 31, 34, 37, 40, 43, 46, 49, 52, 55, 58, 61, 64, 67, 70, 73, 76, 79, 82, 85, 88, 91, 94, 97, [100, 102, 104, 106, 108]]\n",
      "lst_a_2= ['a', 'a', 'a', 'b', 'b']\n",
      "lst_a_1.extend(lst_a_2)--->[1, 4, 7, 10, 13, 16, 19, 22, 25, 28, 31, 34, 37, 40, 43, 46, 49, 52, 55, 58, 61, 64, 67, 70, 73, 76, 79, 82, 85, 88, 91, 94, 97, [100, 102, 104, 106, 108], 'a', 'a', 'a', 'b', 'b']\n",
      "lst_a_1.count('a')--->3\n",
      "lst_a_1.index(52)=17\n",
      "lst_a_1.insert(2,[1000,1200,1500])=[1, 4, [1000, 1200, 1500], 7, 10, 13, 16, 19, 22, 25, 28, 31, 34, 37, 40, 43, 46, 49, 52, 55, 58, 61, 64, 67, 70, 73, 76, 79, 82, 85, 88, 91, 94, 97, [100, 102, 104, 106, 108], 'a', 'a', 'a', 'b', 'b']\n",
      "__________________________________________________\n",
      "[1, 4, [1000, 1200, 1500], 7, 10, 13, 16, 19, 22, 25, 28, 31, 34, 37, 40, 43, 46, 49, 52, 55, 58, 61, 64, 67, 70, 73, 76, 79, 82, 85, 88, 91, 94, 97, [100, 102, 104, 106, 108], 'a', 'a', 'a', 'b', 'b']\n",
      "lst_a_1.pop(2)_popup=[1000, 1200, 1500]\n",
      "lst_a_1.pop(2)_retention=[1, 4, 7, 10, 13, 16, 19, 22, 25, 28, 31, 34, 37, 40, 43, 46, 49, 52, 55, 58, 61, 64, 67, 70, 73, 76, 79, 82, 85, 88, 91, 94, 97, [100, 102, 104, 106, 108], 'a', 'a', 'a', 'b', 'b']\n",
      "lst_a_1.remove('a')_retention=[1, 4, 7, 10, 13, 16, 19, 22, 25, 28, 31, 34, 37, 40, 43, 46, 49, 52, 55, 58, 61, 64, 67, 70, 73, 76, 79, 82, 85, 88, 91, 94, 97, [100, 102, 104, 106, 108], 'a', 'a', 'b', 'b']\n",
      "__________________________________________________\n",
      "lst_a_3=[2, 4, 6, 3, 7, 3, 1, 16, 9, 35, 14]\n",
      "lst_a_3.sort()=[1, 2, 3, 3, 4, 6, 7, 9, 14, 16, 35]\n"
     ]
    }
   ],
   "source": [
    "lst_a_1=list(range(1,100,3))\n",
    "print(lst_a_1)\n",
    "print('_'*50)\n",
    "#lst_a_1.append(100)#扩展列表，在末尾添加\n",
    "#print('lst_a_1.append(100)--->{}'.format(lst_a_1))\n",
    "lst_a_1.append(list(range(100,110,2)))#扩展列表，在末尾添加\n",
    "print('lst_a_1.append(list(range(100,110,2)))--->{}'.format(lst_a_1))\n",
    "lst_a_2=['a','a','a','b','b']\n",
    "print(\"lst_a_2=\",lst_a_2)\n",
    "lst_a_1.extend(lst_a_2)#合并两个列表\n",
    "print('lst_a_1.extend(lst_a_2)--->{}'.format(lst_a_1))\n",
    "print(\"lst_a_1.count('a')--->{}\".format(lst_a_1.count('a')))#count()计数工具\n",
    "print(\"lst_a_1.index(52)={}\".format(lst_a_1.index(52)))#index()索引工具\n",
    "lst_a_1.insert(2,[1000,1200,1500])#insert(a,b)在a位置插入b,一次只能插入一项\n",
    "print(\"lst_a_1.insert(2,[1000,1200,1500])={}\".format(lst_a_1))\n",
    "print(\"_\"*50)\n",
    "print(lst_a_1)\n",
    "print(\"lst_a_1.pop(2)_popup={}\".format(lst_a_1.pop(2)))#pop()弹出、提取、删除元素,一次只能提取一项\n",
    "print(\"lst_a_1.pop(2)_retention={}\".format(lst_a_1))#pop()后保留部分已不含提取出的元素\n",
    "lst_a_1.remove('a')#remove()删除某值的第一个匹配项\n",
    "print(\"lst_a_1.remove('a')_retention={}\".format(lst_a_1))\n",
    "print(\"_\"*50)\n",
    "lst_a_3=[2,4,6,3,7,3,1,16,9,35,14]\n",
    "print(\"lst_a_3={}\".format(lst_a_3))\n",
    "lst_a_3.sort()#sort()排序\n",
    "print(\"lst_a_3.sort()={}\".format(lst_a_3))"
   ]
  },
  {
   "cell_type": "code",
   "execution_count": 7,
   "id": "f5b6bcf2-8fcb-468a-9afa-b0863e562c8e",
   "metadata": {},
   "outputs": [
    {
     "name": "stdout",
     "output_type": "stream",
     "text": [
      "tuple_1=(1, 2, 3, 4, 5)\n",
      "(20*3,)*3=(60, 60, 60)\n",
      "tuple=(5,8,6,)-->(5, 8, 6)\n",
      "tuple=[5,8,6,]*3-->[5, 8, 6, 5, 8, 6, 5, 8, 6]\n"
     ]
    }
   ],
   "source": [
    "tuple_1=tuple=(1,2,3,4,5,)#元组tuple=(value1,value2,value3,..，)用小括号括起，中间与列表一样由“，”号隔开。最后也需要点逗号。\n",
    "print(\"tuple_1={}\".format(tuple_1))\n",
    "print(\"(20*3,)*3={}\".format((20*3,)*3))\n",
    "print(\"tuple=(5,8,6,)-->{}\".format((5,8,6,)))\n",
    "print(\"tuple=[5,8,6,]*3-->{}\".format([5,8,6,]*3))"
   ]
  },
  {
   "cell_type": "code",
   "execution_count": 1,
   "id": "f67d9525-8e01-489e-8c37-60967678cab6",
   "metadata": {
    "tags": []
   },
   "outputs": [
    {
     "name": "stdout",
     "output_type": "stream",
     "text": [
      "items=[(0, [0, 1, 2, 3, 4, 5, 6]), (1, [[139, 188, 126]]), (2, 'python'), (3, [1, 3, 5, 7, 9])]\n"
     ]
    }
   ],
   "source": [
    "import random#random随机  random.sample()————>对()中内容随机取样\n",
    "items=[(0,[i for i in range(7)]),(1,[random.sample(list(range(100,200,1)),3)]),(2,'python'),(3,list(range(1,10,2)))] #[i for i in range(5)] 为列表推导式 list comprehension/derivation    \n",
    "print(\"items={}\".format(items))"
   ]
  },
  {
   "cell_type": "code",
   "execution_count": 2,
   "id": "da211444-3b73-473b-84d3-301d11a7da70",
   "metadata": {},
   "outputs": [
    {
     "name": "stdout",
     "output_type": "stream",
     "text": [
      "dic=dict(items)={0: [0, 1, 2, 3, 4, 5, 6], 1: [[139, 188, 126]], 2: 'python', 3: [1, 3, 5, 7, 9]}\n",
      "dic[2]=python\n",
      "__________________________________________________\n",
      "{0: [0, 1, 2, 3, 4, 5, 6], 1: [[139, 188, 126]], 2: 'python', 3: [1, 3, 5, 7, 9]}\n",
      "len(dic)->4\n",
      "dic[3]=(random.random(),random.uniform(200,300))->{0: [0, 1, 2, 3, 4, 5, 6], 1: [[139, 188, 126]], 2: 'python', 3: (0.9733258000900639, 285.9843996023598)}\n",
      "del dic[1]->{0: [0, 1, 2, 3, 4, 5, 6], 2: 'python', 3: (0.9733258000900639, 285.9843996023598)}\n",
      "3 in dic->True\n",
      "2 in dic->True\n",
      "dic.keys()->dict_keys([0, 2, 3])\n",
      "dic.values()->dict_values([[0, 1, 2, 3, 4, 5, 6], 'python', (0.9733258000900639, 285.9843996023598)])\n",
      "dic.items()->dict_items([(0, [0, 1, 2, 3, 4, 5, 6]), (2, 'python'), (3, (0.9733258000900639, 285.9843996023598))])\n",
      "__________________________________________________\n",
      "list(dic.keys())->[0, 2, 3]\n"
     ]
    }
   ],
   "source": [
    "dic=dict(items) #dict={ke0:value0,key1:value1,key2:value2,...}，由大括号包含的多个键（Key）：值（Value）对，直接用“,\"逗号隔开，键/值对之间用\":\"冒号隔开\n",
    "print(\"dic=dict(items)={}\".format(dic))#dict为函数，命名可用dic或其他字符串（个人习惯）\n",
    "print(\"dic[2]={}\".format(dic[2]))#输出键（2）对应的值（python）\n",
    "print(\"_\"*50)\n",
    "dic_1=dict={1:[2,3,4],2:[3,5,8]}\n",
    "print(dic)\n",
    "print(\"len(dic)->{}\".format(len(dic)))\n",
    "dic[3]=(random.random(),random.uniform(200,300))\n",
    "print(\"dic[3]=(random.random(),random.uniform(200,300))->{}\".format(dic))\n",
    "del dic[1]\n",
    "print(\"del dic[1]->{}\".format(dic))\n",
    "print(\"3 in dic->{}\".format(3 in dic))\n",
    "print(\"2 in dic->{}\".format(2 in dic))\n",
    "print(\"dic.keys()->{}\".format(dic.keys())) #应该放在字典的方法一节里\n",
    "print(\"dic.values()->{}\".format(dic.values()))\n",
    "print(\"dic.items()->{}\".format(dic.items()))\n",
    "print(\"_\"*50)\n",
    "print(\"list(dic.keys())->{}\".format(list(dic.keys())))\n"
   ]
  },
  {
   "cell_type": "code",
   "execution_count": 3,
   "id": "1248d5b5-a30b-446b-8020-68e3b6486c33",
   "metadata": {},
   "outputs": [
    {
     "name": "stdout",
     "output_type": "stream",
     "text": [
      "dict的应用\n",
      "lst_A=[10, 16, 22, 28, 34, 40, 46, 52, 58, 64, 70, 76, 82, 88, 94],lst_B=[100, 104, 108, 112, 116, 120, 124, 128, 132, 136, 140, 144, 148]\n",
      "dic_2={0: [10, 16, 22, 28, 34, 40, 46, 52, 58, 64, 70, 76, 82, 88, 94], 1: [100, 104, 108, 112, 116, 120, 124, 128, 132, 136, 140, 144, 148]}\n",
      "__________________________________________________\n",
      "dic_assignment={0: [10, 16, 22, 28, 34, 40, 46, 52, 58, 64, 70, 76, 82, 88, 94], 1: [100, 104, 108, 112, 116, 120, 124, 128, 132, 136, 140, 144, 148]}\n",
      "dic_2.clear()->{}\n",
      "dic_assignment={}\n",
      "dic_2[5]=list(range(1,9,2))->{5: [1, 3, 5, 7]}\n",
      "dic_copy=dic_2.copy()->{5: [1, 3, 5, 7]}\n",
      "dic_2[6]=[5,7]->{5: [1, 3, 5, 7], 6: [5, 7]}\n",
      "dic_copy={5: [1, 3, 5, 7]}\n",
      "dic_copy[5].remove(5)->{5: [1, 3, 7]}\n",
      "dic_copy.setdefault(6,[77,99])->{5: [1, 3, 7], 6: [77, 99]}\n",
      "dic_2.pop(5)->{6: [5, 7]}\n",
      "dic_update={8: [5, 7, 6, 3, 2], 9: [3, 2, 33, 55, 66]}\n",
      "dic_2.update(dic_update->{6: [5, 7], 8: [5, 7, 6, 3, 2], 9: [3, 2, 33, 55, 66]}\n",
      "dic_2.get(9)->[3, 2, 33, 55, 66]\n",
      "dic_2.popitem()->{6: [5, 7], 8: [5, 7, 6, 3, 2]}\n",
      "dic_3={}.fromkeys([0,1,2,3,4,'A'])->{0: None, 1: None, 2: None, 3: None, 4: None, 'A': None}\n"
     ]
    }
   ],
   "source": [
    "print(\"dict的应用\")\n",
    "lst_A=list(range(10,100,6))\n",
    "lst_B=list(range(100,150,4))\n",
    "print(\"lst_A={},lst_B={}\".format(lst_A,lst_B))\n",
    "dic_2={0:lst_A,1:lst_B}\n",
    "print(\"dic_2={}\".format(dic_2))\n",
    "print(\"_\"*50)\n",
    "dic_assignment=dic_2\n",
    "print(\"dic_assignment={}\".format(dic_assignment))\n",
    "dic_2.clear()\n",
    "print(\"dic_2.clear()->{}\".format(dic_2))#.clear()清空内容\n",
    "print(\"dic_assignment={}\".format(dic_assignment))#dic_assignment=dic_2，dic_2被清空，dic_assignment也被清空\n",
    "dic_2[5]=list(range(1,9,2))#对key5及内容赋值\n",
    "print(\"dic_2[5]=list(range(1,9,2))->{}\".format(dic_2))\n",
    "dic_copy=dic_2.copy()#.copy()复制\n",
    "print(\"dic_copy=dic_2.copy()->{}\".format(dic_copy))\n",
    "dic_2[6]=[5,7]\n",
    "print(\"dic_2[6]=[5,7]->{}\".format(dic_2))\n",
    "print(\"dic_copy={}\".format(dic_copy))\n",
    "dic_copy[5].remove(5)\n",
    "print(\"dic_copy[5].remove(5)->{}\".format(dic_copy))\n",
    "dic_copy.setdefault(6,[77,99]) #返回指定键的值，如果不存在该键，则字典增加新的键/值对\n",
    "print(\"dic_copy.setdefault(6,[77,99])->{}\".format(dic_copy))\n",
    "dic_2.pop(5) #移除指定键/值，并返回该值\n",
    "print(\"dic_2.pop(5)->{}\".format(dic_2))\n",
    "dic_update={8:[5,7,6,3,2],9:[3,2,33,55,66]}\n",
    "print(\"dic_update={}\".format(dic_update))\n",
    "dic_2.update(dic_update) #更新字典\n",
    "print(\"dic_2.update(dic_update->{}\".format(dic_2))\n",
    "print(\"dic_2.get(9)->{}\".format(dic_2.get(9)))\n",
    "dic_2.popitem() #随即弹出一对键/值，并在该字典中移除\n",
    "print(\"dic_2.popitem()->{}\".format(dic_2))\n",
    "dic_3={}.fromkeys([0,1,2,3,4,'A']) #.fronkeys()给定键，建立值为空的字典\n",
    "print(\"dic_3={}\"+\".fromkeys([0,1,2,3,4,'A'])->{}\".format(dic_3)) "
   ]
  },
  {
   "cell_type": "code",
   "execution_count": 4,
   "id": "defe24f2-5f92-4025-b4d7-d992271ecf7f",
   "metadata": {},
   "outputs": [
    {
     "name": "stdout",
     "output_type": "stream",
     "text": [
      "lst_s_3=list(\"Hello XAUAT!\")->['H', 'e', 'l', 'l', 'o', ' ', 'X', 'A', 'U', 'A', 'T', '!']\n",
      "\"Hellow\"+\" XAUAT!\"->Hellow XAUAT!\n",
      "\"+\".join(str(123456))->1+2+3+4+5+6\n",
      "len(\"Hellow XAUAT!\")->13\n",
      "coordinates.split(\",\")->['120.132007', '30.300508', '9.7']\n",
      "eval(coordinates)->(120.132007, 30.300508, 9.7)\n",
      "\"Hello XAUAT!\".lower()->hello xauat!\n",
      "\"Hello XAUAT!\".upper()->HELLO XAUAT!\n",
      "\"Hello XAUAT!\"[6:]->XAUAT!\n",
      "\"Hello XAUAT!\".strip()->Hello XAUAT!\n",
      "\"Hello XAUAT!\".replace(\"XAUAT\",\"Tree new bee\")->Hello Tree new bee!\n",
      "hello_lst.sort()>[' ', '!', 'A', 'A', 'H', 'T', 'U', 'X', 'e', 'l', 'l', 'o']\n",
      "\"Hello XAUAT!\".find(\\X\")->6\n"
     ]
    }
   ],
   "source": [
    "lst_s_3=list(\"Hello XAUAT!\")\n",
    "print(\"lst_s_3=list(\\\"Hello XAUAT!\\\")->{}\".format(lst_s_3)) #\"\\\" escape character换码字符（拆分？）空格也占位置\n",
    "print(\"\\\"Hellow\\\"+\\\" XAUAT!\\\"->{}\".format(\"Hellow\"+\" XAUAT!\"))\n",
    "print(\"\\\"+\\\".join(str(123456))->{}\".format(\"+\".join(str(123456))))#.join()连接\n",
    "print(\"len(\\\"Hellow XAUAT!\\\")->{}\".format(len(\"Hellow XAUAT!\")))\n",
    "coordinates=\"120.132007,30.300508,9.7\"\n",
    "print(\"coordinates.split(\\\",\\\")->{}\".format(coordinates.split(\",\")))#。split(\",\")用逗号分隔\n",
    "print(\"eval(coordinates)->{}\".format(eval(coordinates))) #通常用.eval()方法将字符串，转换为对应数值形式；\n",
    "print(\"\\\"Hello XAUAT!\\\".lower()->{}\".format(\"Hello XAUAT!\".lower()))#小写\n",
    "print(\"\\\"Hello XAUAT!\\\".upper()->{}\".format(\"Hello XAUAT!\".upper()))#大写\n",
    "print(\"\\\"Hello XAUAT!\\\"[6:]->{}\".format(\"Hello XAUAT!\"[6:]))\n",
    "print(\"\\\"Hello XAUAT!\\\".strip()->{}\".format(\"Hello XAUAT!\".strip()))\n",
    "print(\"\\\"Hello XAUAT!\\\".replace(\\\"XAUAT\\\",\\\"Tree new bee\\\")->{}\".format(\"Hello XAUAT!\".replace(\"XAUAT\",\"Tree new bee\")))#替换\n",
    "hello_lst=list(\"Hello XAUAT!\")\n",
    "hello_lst.sort()\n",
    "print(\"hello_lst.sort()>{}\".format(hello_lst))\n",
    "print(\"\\\"Hello XAUAT!\\\".find(\\X\\\")->{}\".format(\"Hello XAUAT!\".find(\"X\")))"
   ]
  },
  {
   "cell_type": "code",
   "execution_count": 5,
   "id": "9a7189cb-89be-4275-8e34-0f4c89fd1d34",
   "metadata": {},
   "outputs": [
    {
     "name": "stdout",
     "output_type": "stream",
     "text": [
      "new_str=format_str % values->Hello,XAUAT and Tree new bee!\n",
      "new_str_2=format_str_2 % (pi,3.1415926)->Pi with three decimals:3.142,and enter a value with percent sign:3.14 %\n"
     ]
    }
   ],
   "source": [
    "format_str=\"Hello,%s and %s!\"#%s称为转换说明符\n",
    "values=(\"XAUAT\",\"Tree new bee\")\n",
    "new_str=format_str % values\n",
    "print(\"new_str=format_str % values->{}\".format(new_str))\n",
    "from math import pi#从数学中引入π\n",
    "format_str_2=\"Pi with three decimals:%.3f,and enter a value with percent sign:%.2f %%\" #如果字符串里包含实际的%，则通过%%即两个百分号进行转义\n",
    "new_str_2=format_str_2 % (pi,3.1415926)\n",
    "print(\"new_str_2=format_str_2 % (pi,3.1415926)->{}\".format(new_str_2))"
   ]
  },
  {
   "cell_type": "code",
   "execution_count": 6,
   "id": "fe311e93-1175-4d2d-82f9-8001f25ff951",
   "metadata": {
    "tags": []
   },
   "outputs": [],
   "source": [
    "#除了转换说明符%外，可以增加转换标志，-表示左对齐，+表示在转换值之前要加上正负号，\n",
    "#“”空白字符，表示正数之前保留空格，0表示转换值若位数不够则用0填充；如果格式化字符串中包含*，那么可以在值元组中设置宽度；\n",
    "#(.)点号加数字表示小数点后的位数精度，如果转换的是字符串，那么该数字则表示最大字段宽度。转换类型参看表：\n",
    "\n",
    "#转换类型\t含义\n",
    "#d,i\t带符号的十进制整数\n",
    "#o\t不带符号的八进制\n",
    "#u\t不带符号的十进制\n",
    "#x\t不带符号的十六进制（小写）\n",
    "#X\t不带符号的十六进制（大写）\n",
    "#e\t科学计数法表示的浮点数（小写）\n",
    "#E\t科学计数法表示的浮点数（大写）\n",
    "#f,F\t十进制浮点数\n",
    "#g\t如果指数大于-4或者小于精度值则和ｅ相同，其它情况与ｆ相同\n",
    "#G\t如果指数大于-4或者小于精度值则和E相同，其它情况与F相同\n",
    "#C\t单字符（接受整数或者单字符字符串）\n",
    "#r\t字符串（使用repr转换任意Python对象)\n",
    "#s\t字符串（使用str转换任意Python对象)"
   ]
  },
  {
   "cell_type": "code",
   "execution_count": 11,
   "id": "70093e56-9fe8-47b3-8b5d-e7371eae319c",
   "metadata": {},
   "outputs": [
    {
     "name": "stdout",
     "output_type": "stream",
     "text": [
      "            3.141593,                3.14,3.14,Hello,Hello Python!,52,34,3.141593\n"
     ]
    }
   ],
   "source": [
    "format_str_3=\"%20f,%20.2f,%.2f,%.5s,%*s,%d,%x,%f\"\n",
    "new_str_3=format_str_3%(pi,pi,pi,\"Hello Python!\",5,\"Hello Python!\",52,52,pi)\n",
    "print(\"{}\".format(new_str_3))#分别是保留20位，精确小数点后两位且保留20位，仅精确小数点后两位，，，16进制数，十进制数"
   ]
  },
  {
   "cell_type": "code",
   "execution_count": 15,
   "id": "c0bfc88d-1ff1-4fe3-ab50-e258ad2ab08e",
   "metadata": {},
   "outputs": [
    {
     "name": "stdout",
     "output_type": "stream",
     "text": [
      "s_1=s_template_1.substitute(x=\"Python\")->Python,glorious,Python!\n",
      "s_2=s_template_2.substitute(x=\"py\")->python is amazing!\n"
     ]
    },
    {
     "ename": "TypeError",
     "evalue": "'list' object is not callable",
     "output_type": "error",
     "traceback": [
      "\u001b[1;31m---------------------------------------------------------------------------\u001b[0m",
      "\u001b[1;31mTypeError\u001b[0m                                 Traceback (most recent call last)",
      "\u001b[1;32m<ipython-input-15-f71ba4596c60>\u001b[0m in \u001b[0;36m<module>\u001b[1;34m\u001b[0m\n\u001b[0;32m      7\u001b[0m \u001b[0mprint\u001b[0m\u001b[1;33m(\u001b[0m\u001b[1;34m\"s_2=s_template_2.substitute(x=\\\"py\\\")->{}\"\u001b[0m\u001b[1;33m.\u001b[0m\u001b[0mformat\u001b[0m\u001b[1;33m(\u001b[0m\u001b[0ms_2\u001b[0m\u001b[1;33m)\u001b[0m\u001b[1;33m)\u001b[0m\u001b[1;33m\u001b[0m\u001b[1;33m\u001b[0m\u001b[0m\n\u001b[0;32m      8\u001b[0m \u001b[0ms_template_3\u001b[0m\u001b[1;33m=\u001b[0m\u001b[0mTemplate\u001b[0m\u001b[1;33m(\u001b[0m\u001b[1;34m\"$x and $y are both amazing!\"\u001b[0m\u001b[1;33m)\u001b[0m\u001b[1;33m\u001b[0m\u001b[1;33m\u001b[0m\u001b[0m\n\u001b[1;32m----> 9\u001b[1;33m \u001b[0msubstitute_dict\u001b[0m\u001b[1;33m=\u001b[0m\u001b[0mdict\u001b[0m\u001b[1;33m(\u001b[0m\u001b[1;33m[\u001b[0m\u001b[1;33m(\u001b[0m\u001b[1;34m'x'\u001b[0m\u001b[1;33m,\u001b[0m\u001b[1;34m'Python'\u001b[0m\u001b[1;33m)\u001b[0m\u001b[1;33m,\u001b[0m\u001b[1;33m(\u001b[0m\u001b[1;34m'y'\u001b[0m\u001b[1;33m,\u001b[0m\u001b[1;34m'Grasshopper'\u001b[0m\u001b[1;33m)\u001b[0m\u001b[1;33m]\u001b[0m\u001b[1;33m)\u001b[0m\u001b[1;33m\u001b[0m\u001b[1;33m\u001b[0m\u001b[0m\n\u001b[0m\u001b[0;32m     10\u001b[0m \u001b[0mprint\u001b[0m\u001b[1;33m(\u001b[0m\u001b[1;34m\"substitute_dict={}\"\u001b[0m\u001b[1;33m.\u001b[0m\u001b[0mformat\u001b[0m\u001b[1;33m(\u001b[0m\u001b[0msubstitute_dict\u001b[0m\u001b[1;33m)\u001b[0m\u001b[1;33m)\u001b[0m\u001b[1;33m\u001b[0m\u001b[1;33m\u001b[0m\u001b[0m\n\u001b[0;32m     11\u001b[0m \u001b[0ms_3\u001b[0m\u001b[1;33m=\u001b[0m\u001b[0ms_template_3\u001b[0m\u001b[1;33m.\u001b[0m\u001b[0msubstitute\u001b[0m\u001b[1;33m(\u001b[0m\u001b[0msubstitute_dict\u001b[0m\u001b[1;33m)\u001b[0m\u001b[1;33m\u001b[0m\u001b[1;33m\u001b[0m\u001b[0m\n",
      "\u001b[1;31mTypeError\u001b[0m: 'list' object is not callable"
     ]
    }
   ],
   "source": [
    "from string import Template\n",
    "s_template_1=Template(\"$x,glorious,$x!\")\n",
    "s_1=s_template_1.substitute(x=\"Python\")\n",
    "print(\"s_1=s_template_1.substitute(x=\\\"Python\\\")->{}\".format(s_1))\n",
    "s_template_2=Template(\"${x}thon is amazing!\")\n",
    "s_2=s_template_2.substitute(x=\"py\")\n",
    "print(\"s_2=s_template_2.substitute(x=\\\"py\\\")->{}\".format(s_2))\n",
    "s_template_3=Template(\"$x and $y are both amazing!\")\n",
    "substitute_dict=dict([('x','Python'),('y','Grasshopper')])\n",
    "print(\"substitute_dict={}\".format(substitute_dict))\n",
    "s_3=s_template_3.substitute(substitute_dict)\n",
    "print(\"s_3=s_template_3.substitute(substitute_dict)->{}\".format(s_3))"
   ]
  },
  {
   "cell_type": "code",
   "execution_count": 38,
   "id": "ecd8f846-6954-4026-94a1-f713277b0ba7",
   "metadata": {},
   "outputs": [
    {
     "name": "stdout",
     "output_type": "stream",
     "text": [
      "re.findall(pattern_1,text)->['XAUAT']\n",
      "re.findall(pattern_2,text)->['XAUAT']\n"
     ]
    }
   ],
   "source": [
    "import re\n",
    "pattern_1='XAUAT'\n",
    "text=\"Hello XAUAT!\"\n",
    "print(\"re.findall(pattern_1,text)->{}\".format(re.findall(pattern_1,text)))\n",
    "pattern_2='XAUAT'\n",
    "print(\"re.findall(pattern_2,text)->{}\".format(re.findall(pattern_2,text)))"
   ]
  },
  {
   "cell_type": "code",
   "execution_count": 39,
   "id": "66bcc8a9-30e7-4f14-ab55-8ce44141b21a",
   "metadata": {},
   "outputs": [
    {
     "name": "stdout",
     "output_type": "stream",
     "text": [
      "re.findall('.ython','Hello Python!')->['Python']\n",
      "re.findall('.ython','Hello gython!')->['gython']\n",
      "re.findall('.ython','Hello gPython!')->['Python']\n",
      "re.findall('.ython','Hello Pthon!')->[]\n"
     ]
    }
   ],
   "source": [
    "print(\"re.findall('.ython','Hello Python!')->{}\".format(re.findall('.ython','Hello Python!')))\n",
    "print(\"re.findall('.ython','Hello gython!')->{}\".format(re.findall('.ython','Hello gython!')))\n",
    "print(\"re.findall('.ython','Hello gPython!')->{}\".format(re.findall('.ython','Hello gPython!')))\n",
    "print(\"re.findall('.ython','Hello Pthon!')->{}\".format(re.findall('.ython','Hello Pthon!')))"
   ]
  },
  {
   "cell_type": "code",
   "execution_count": 40,
   "id": "93ae1954-7f4c-4f8b-958e-ce54bda06596",
   "metadata": {},
   "outputs": [
    {
     "name": "stdout",
     "output_type": "stream",
     "text": [
      "re.findall(r'w?cadesign\\.cn,w+\\.cadesign\\.cn','cadesign.cn,www.cadesign.cn')->['cadesign.cn,www.cadesign.cn']\n",
      "re.findall(r'w{2}\\.cadesign\\.cn','www.cadesign.cn')->['ww.cadesign.cn']\n",
      "re.findall(r'w{1,3}\\.cadesign\\.cn','www.cadesign.cn')->['www.cadesign.cn']\n"
     ]
    }
   ],
   "source": [
    "print(\"re.findall(r'w?cadesign\\.cn,w+\\.cadesign\\.cn','cadesign.cn,www.cadesign.cn')->{}\".format(re.findall(r'w?cadesign\\.cn,w+\\.cadesign\\.cn','cadesign.cn,www.cadesign.cn')))\n",
    "print(\"re.findall(r'w{2}\"+\"\\.cadesign\\.cn','www.cadesign.cn')->{}\".format(re.findall(r'w{2}\\.cadesign\\.cn','www.cadesign.cn')))\n",
    "print(\"re.findall(r'w{1,3}\"+\"\\.cadesign\\.cn','www.cadesign.cn')->{}\".format(re.findall(r'w{1,3}\\.cadesign\\.cn','www.cadesign.cn')))"
   ]
  },
  {
   "cell_type": "code",
   "execution_count": 41,
   "id": "ad2c7012-e24c-4314-b7fe-62aa0c9f0d51",
   "metadata": {},
   "outputs": [
    {
     "name": "stdout",
     "output_type": "stream",
     "text": [
      "re.findall('[Py]*thon!','Hello Python!')->['Python!']\n",
      "re.findall('[Py]*thon!','Hello Pthon!')->['Pthon!']\n",
      "re.findall('[Py]*thon!','Hello ython!')->['ython!']\n",
      "re.findall('[Py]*thon!','Hello ython!')->['thon!']\n"
     ]
    }
   ],
   "source": [
    "print(\"re.findall('[Py]*thon!','Hello Python!')->{}\".format(re.findall('[Py]*thon!','Hello Python!')))\n",
    "print(\"re.findall('[Py]*thon!','Hello Pthon!')->{}\".format(re.findall('[Py]*thon!','Hello Pthon!')))\n",
    "print(\"re.findall('[Py]*thon!','Hello ython!')->{}\".format(re.findall('[Py]*thon!','Hello ython!')))\n",
    "print(\"re.findall('[Py]*thon!','Hello ython!')->{}\".format(re.findall('[Py]*thon!','Hello thon!')))"
   ]
  },
  {
   "cell_type": "code",
   "execution_count": 42,
   "id": "ecf35bf8-42c0-42f3-960e-5f7a00508d7b",
   "metadata": {},
   "outputs": [
    {
     "name": "stdout",
     "output_type": "stream",
     "text": [
      "re.findall('python|grasshopper','python')->['python']\n",
      "re.findall('python|grasshopper','grasshopper')->['grasshopper']\n",
      "re.findall('python|grasshopper','grasshopper and python')->['grasshopper', 'python']\n"
     ]
    }
   ],
   "source": [
    "print(\"re.findall('python|grasshopper','python')->{}\".format(re.findall('python|grasshopper','python')))\n",
    "print(\"re.findall('python|grasshopper','grasshopper')->{}\".format(re.findall('python|grasshopper','grasshopper')))\n",
    "print(\"re.findall('python|grasshopper','grasshopper and python')->{}\".format(re.findall('python|grasshopper','grasshopper and python')))\n"
   ]
  },
  {
   "cell_type": "code",
   "execution_count": 43,
   "id": "cc2cc781-3ffb-4a90-8c3b-26dc6a00f962",
   "metadata": {},
   "outputs": [
    {
     "name": "stdout",
     "output_type": "stream",
     "text": [
      "re.findall('\\d','number=10')->['1', '0']\n",
      "re.findall('\\D','number=10')->['n', 'u', 'm', 'b', 'e', 'r', '=']\n",
      "re.findall('[^0-9]','number=10')->['n', 'u', 'm', 'b', 'e', 'r', '=']\n"
     ]
    }
   ],
   "source": [
    "print(\"re.findall('\\d','number=10')->{}\".format(re.findall('\\d','number=10')))\n",
    "print(\"re.findall('\\D','number=10')->{}\".format(re.findall('\\D','number=10')))\n",
    "print(\"re.findall('[^0-9]','number=10')->{}\".format(re.findall('[^0-9]','number=10')))"
   ]
  },
  {
   "cell_type": "code",
   "execution_count": 44,
   "id": "18f805a2-8798-47a4-b1f1-f20e79a8b06e",
   "metadata": {},
   "outputs": [
    {
     "name": "stdout",
     "output_type": "stream",
     "text": [
      "re.findall('[a-z]','python')->['p', 'y', 't', 'h', 'o', 'n']\n",
      "re.search('[a-z]+','python')-><re.Match object; span=(0, 6), match='python'>\n",
      "re.search('[a-z]+','python')->found it!\n",
      "re.split(',','Hello,,,,,,Python!')->['Hello', '', '', '', '', '', 'Python!']\n",
      "re.sub('Python','Grasshopper','Hello Python!')->Hello Grasshopper!\n",
      "pattern_compile.findall('Hello,,,,,,Python!')->['Python']\n",
      "re.match('p','python')->found it!\n"
     ]
    }
   ],
   "source": [
    "print(\"re.findall('[a-z]','python')->{}\".format(re.findall('[a-z]','python-3.0')))\n",
    "print(\"re.search('[a-z]+','python')->{}\".format(re.search('[a-z]+','python')))\n",
    "if re.search('[a-z]+','python'):\n",
    "    print(\"re.search('[a-z]+','python')->found it!\")\n",
    "print(\"re.split(',','Hello,,,,,,Python!')->{}\".format(re.split(',','Hello,,,,,,Python!')))\n",
    "print(\"re.sub('Python','Grasshopper','Hello Python!')->{}\".format(re.sub('Python','Grasshopper','Hello Python!')))\n",
    "\n",
    "pattern_compile=re.compile('Python')\n",
    "print(\"pattern_compile.findall('Hello,,,,,,Python!')->{}\".format(pattern_compile.findall('Hello,,,,,,Python!')))\n",
    "\n",
    "if re.match('p','python'):\n",
    "    print(\"re.match('p','python')->found it!\")"
   ]
  },
  {
   "cell_type": "code",
   "execution_count": 45,
   "id": "b0713a33-93db-420e-a01f-5565cdbfabdf",
   "metadata": {},
   "outputs": [
    {
     "name": "stdout",
     "output_type": "stream",
     "text": [
      "'python'.find('python')->0\n",
      "'python'.find('thon')->2\n",
      "'python'.find('a')->-1\n",
      "'p' in 'python'->True\n"
     ]
    }
   ],
   "source": [
    "print(\"\\'python\\'.find(\\'python\\')->{}\".format('python'.find('python')))\n",
    "print(\"\\'python\\'.find(\\'thon\\')->{}\".format('python'.find('thon')))\n",
    "print(\"\\'python\\'.find(\\'a\\')->{}\".format('python'.find('a')))\n",
    "print(\"\\'p\\' in \\'python\\'->{}\".format('p' in 'python'))"
   ]
  },
  {
   "cell_type": "code",
   "execution_count": 49,
   "id": "8a4a6a15-3dcb-4d69-8290-5d4ce22d8eab",
   "metadata": {},
   "outputs": [
    {
     "name": "stdout",
     "output_type": "stream",
     "text": [
      "'Hello,,,,,,Python!'.split(',')->['Hello', '', '', '', '', '', 'Python!']\n",
      "'Hello Python!'.replace('Python','Grasshopper')->Hello Grasshopper!\n"
     ]
    }
   ],
   "source": [
    "print(\"\\'Hello,,,,,,Python!\\'.split(',')->{}\".format( 'Hello,,,,,,Python!'.split(',')))\n",
    "print(\"\\'Hello Python!\\'.replace(\\'Python\\',\\'Grasshopper\\')->{}\".format( 'Hello Python!'.replace('Python','Grasshopper')))"
   ]
  },
  {
   "cell_type": "code",
   "execution_count": 48,
   "id": "f1cb501d-41cf-4fc6-81d4-ee098f0c1749",
   "metadata": {},
   "outputs": [
    {
     "name": "stdout",
     "output_type": "stream",
     "text": [
      "match_1.gourp(1)->python\n",
      "match_1.start(1)->4\n",
      "match_1.end(1)->10\n",
      "match_1.span(1)->(4, 10)\n",
      "match_2.group(1)->python\n",
      "match_2.group(2)->org\n"
     ]
    }
   ],
   "source": [
    "match_1=re.match(r'www\\.(.*)\\..{3}','www.python.org')\n",
    "print(\"match_1.gourp(1)->{}\".format(match_1.group(1)))\n",
    "print(\"match_1.start(1)->{}\".format(match_1.start(1)))\n",
    "print(\"match_1.end(1)->{}\".format(match_1.end(1)))\n",
    "print(\"match_1.span(1)->{}\".format(match_1.span(1)))\n",
    "match_2=re.match(r'www\\.(.*)\\.(.{3})','www.python.org')\n",
    "print(\"match_2.group(1)->{}\".format(match_2.group(1)))\n",
    "print(\"match_2.group(2)->{}\".format(match_2.group(2)))"
   ]
  },
  {
   "cell_type": "code",
   "execution_count": 51,
   "id": "43d4195b-da54-41e3-9cf8-a545aa3f3e7d",
   "metadata": {},
   "outputs": [
    {
     "name": "stdout",
     "output_type": "stream",
     "text": [
      "lst_1=[29, 31, 33, 35]\n",
      "__________________________________________________\n",
      "for i in lst_1:\n",
      "29\n",
      "31\n",
      "33\n",
      "35\n",
      "for i in range(len(lst_1)):\n",
      "idx=0,val=29\n",
      "idx=1,val=31\n",
      "idx=2,val=33\n",
      "idx=3,val=35\n",
      "++++++++++++++++++++++++++++++++++++++++++++++++++\n"
     ]
    },
    {
     "ename": "TypeError",
     "evalue": "'list' object is not callable",
     "output_type": "error",
     "traceback": [
      "\u001b[1;31m---------------------------------------------------------------------------\u001b[0m",
      "\u001b[1;31mTypeError\u001b[0m                                 Traceback (most recent call last)",
      "\u001b[1;32m<ipython-input-51-4a994f6259b4>\u001b[0m in \u001b[0;36m<module>\u001b[1;34m\u001b[0m\n\u001b[0;32m      9\u001b[0m     \u001b[0mprint\u001b[0m\u001b[1;33m(\u001b[0m\u001b[1;34m\"idx={},val={}\"\u001b[0m\u001b[1;33m.\u001b[0m\u001b[0mformat\u001b[0m\u001b[1;33m(\u001b[0m\u001b[0mi\u001b[0m\u001b[1;33m,\u001b[0m\u001b[0mlst_1\u001b[0m\u001b[1;33m[\u001b[0m\u001b[0mi\u001b[0m\u001b[1;33m]\u001b[0m\u001b[1;33m)\u001b[0m\u001b[1;33m)\u001b[0m\u001b[1;33m\u001b[0m\u001b[1;33m\u001b[0m\u001b[0m\n\u001b[0;32m     10\u001b[0m \u001b[0mprint\u001b[0m\u001b[1;33m(\u001b[0m\u001b[1;34m\"+\"\u001b[0m\u001b[1;33m*\u001b[0m\u001b[1;36m50\u001b[0m\u001b[1;33m)\u001b[0m\u001b[1;33m\u001b[0m\u001b[1;33m\u001b[0m\u001b[0m\n\u001b[1;32m---> 11\u001b[1;33m \u001b[0mdic_4\u001b[0m\u001b[1;33m=\u001b[0m\u001b[0mdict\u001b[0m\u001b[1;33m(\u001b[0m\u001b[0ma\u001b[0m\u001b[1;33m=\u001b[0m\u001b[1;36m2\u001b[0m\u001b[1;33m,\u001b[0m\u001b[0mb\u001b[0m\u001b[1;33m=\u001b[0m\u001b[1;36m3\u001b[0m\u001b[1;33m,\u001b[0m\u001b[0mc\u001b[0m\u001b[1;33m=\u001b[0m\u001b[1;36m6\u001b[0m\u001b[1;33m,\u001b[0m\u001b[0md\u001b[0m\u001b[1;33m=\u001b[0m\u001b[1;36m0\u001b[0m\u001b[1;33m)\u001b[0m\u001b[1;33m\u001b[0m\u001b[1;33m\u001b[0m\u001b[0m\n\u001b[0m\u001b[0;32m     12\u001b[0m \u001b[0mprint\u001b[0m\u001b[1;33m(\u001b[0m\u001b[1;34m\"dic_4={}\"\u001b[0m\u001b[1;33m.\u001b[0m\u001b[0mformat\u001b[0m\u001b[1;33m(\u001b[0m\u001b[0mdic_4\u001b[0m\u001b[1;33m)\u001b[0m\u001b[1;33m)\u001b[0m\u001b[1;33m\u001b[0m\u001b[1;33m\u001b[0m\u001b[0m\n\u001b[0;32m     13\u001b[0m \u001b[0mprint\u001b[0m\u001b[1;33m(\u001b[0m\u001b[1;34m\"_\"\u001b[0m\u001b[1;33m*\u001b[0m\u001b[1;36m50\u001b[0m\u001b[1;33m)\u001b[0m\u001b[1;33m\u001b[0m\u001b[1;33m\u001b[0m\u001b[0m\n",
      "\u001b[1;31mTypeError\u001b[0m: 'list' object is not callable"
     ]
    }
   ],
   "source": [
    "lst_1=list(range(29,37,2))\n",
    "print(\"lst_1={}\".format(lst_1))\n",
    "print(\"_\"*50)\n",
    "print(\"for i in lst_1:\")\n",
    "for i in lst_1:\n",
    "    print(i)\n",
    "print(\"for i in range(len(lst_1)):\")\n",
    "for i in range(len(lst_1)):\n",
    "    print(\"idx={},val={}\".format(i,lst_1[i]))\n",
    "print(\"+\"*50)   \n",
    "dic_4=dict(a=2,b=3,c=6,d=0)\n",
    "print(\"dic_4={}\".format(dic_4))\n",
    "print(\"_\"*50)\n",
    "print(\"for k in dic_4:\")\n",
    "for k in dic_4:\n",
    "    print(k)\n",
    "print(\"for k,v in dic_4.items():\")\n",
    "for k,v in dic_4.items():\n",
    "    print(\"key={},val={}\".format(k,v))"
   ]
  },
  {
   "cell_type": "code",
   "execution_count": 52,
   "id": "34121d13-b258-4408-90ae-afe5a2557b17",
   "metadata": {},
   "outputs": [
    {
     "name": "stdout",
     "output_type": "stream",
     "text": [
      "x=1\n",
      "x=11\n",
      "x=21\n",
      "x=31\n",
      "x=41\n",
      "x=51\n",
      "x=61\n",
      "x=71\n",
      "x=81\n",
      "x=91\n"
     ]
    }
   ],
   "source": [
    "\n",
    "x=1\n",
    "while x<=100:\n",
    "    print(\"x={}\".format(x))\n",
    "    x+=10 "
   ]
  },
  {
   "cell_type": "code",
   "execution_count": 55,
   "id": "2c6bdb4a-7c6b-458f-abd1-2f28948c56a3",
   "metadata": {},
   "outputs": [
    {
     "name": "stdout",
     "output_type": "stream",
     "text": [
      "x=1\n",
      "x=11\n",
      "sys.maxsize=9223372036854775807\n",
      "i=0\n",
      "i=1\n",
      "i=2\n",
      "i=3\n",
      "i=4\n",
      "i=5\n",
      "i=6\n",
      "i=7\n",
      "i=8\n",
      "i=9\n",
      "i=10\n"
     ]
    }
   ],
   "source": [
    "x=1\n",
    "while x<=50:\n",
    "    print(\"x={}\".format(x))\n",
    "    x+=10 \n",
    "    if x>=20:break    \n",
    "    \n",
    "import sys\n",
    "print(\"sys.maxsize={}\".format(sys.maxsize))\n",
    "for i in range(sys.maxsize):\n",
    "    print(\"i={}\".format(i))  #?\n",
    "    i+=10\n",
    "    if i>=20:break"
   ]
  },
  {
   "cell_type": "code",
   "execution_count": 59,
   "id": "54d7d8fd-f4be-41ec-87f0-689f0fab5021",
   "metadata": {},
   "outputs": [
    {
     "name": "stdout",
     "output_type": "stream",
     "text": [
      "dic_4={0: 'point_a', 1: 'point_b', 2: 'point_c', 3: 'point_d'}\n"
     ]
    },
    {
     "ename": "TypeError",
     "evalue": "'list' object is not callable",
     "output_type": "error",
     "traceback": [
      "\u001b[1;31m---------------------------------------------------------------------------\u001b[0m",
      "\u001b[1;31mTypeError\u001b[0m                                 Traceback (most recent call last)",
      "\u001b[1;32m<ipython-input-59-f185cce079ad>\u001b[0m in \u001b[0;36m<module>\u001b[1;34m\u001b[0m\n\u001b[0;32m      4\u001b[0m     \u001b[0mdic_4\u001b[0m\u001b[1;33m[\u001b[0m\u001b[0midx\u001b[0m\u001b[1;33m]\u001b[0m\u001b[1;33m=\u001b[0m\u001b[0mvalue\u001b[0m\u001b[1;33m\u001b[0m\u001b[1;33m\u001b[0m\u001b[0m\n\u001b[0;32m      5\u001b[0m \u001b[0mprint\u001b[0m\u001b[1;33m(\u001b[0m\u001b[1;34m\"dic_4={}\"\u001b[0m\u001b[1;33m.\u001b[0m\u001b[0mformat\u001b[0m\u001b[1;33m(\u001b[0m\u001b[0mdic_4\u001b[0m\u001b[1;33m)\u001b[0m\u001b[1;33m)\u001b[0m\u001b[1;33m\u001b[0m\u001b[1;33m\u001b[0m\u001b[0m\n\u001b[1;32m----> 6\u001b[1;33m \u001b[0mprint\u001b[0m\u001b[1;33m(\u001b[0m\u001b[1;34m\"dict((i,v) for i,v in enumerate(lst_c))->{}\"\u001b[0m\u001b[1;33m.\u001b[0m\u001b[0mformat\u001b[0m\u001b[1;33m(\u001b[0m\u001b[0mdict\u001b[0m\u001b[1;33m(\u001b[0m\u001b[1;33m(\u001b[0m\u001b[0mi\u001b[0m\u001b[1;33m,\u001b[0m\u001b[0mv\u001b[0m\u001b[1;33m)\u001b[0m \u001b[1;32mfor\u001b[0m \u001b[0mi\u001b[0m\u001b[1;33m,\u001b[0m\u001b[0mv\u001b[0m \u001b[1;32min\u001b[0m \u001b[0menumerate\u001b[0m\u001b[1;33m(\u001b[0m\u001b[0mlst_c\u001b[0m\u001b[1;33m)\u001b[0m\u001b[1;33m)\u001b[0m\u001b[1;33m)\u001b[0m\u001b[1;33m)\u001b[0m \u001b[1;31m#list comprehension\u001b[0m\u001b[1;33m\u001b[0m\u001b[1;33m\u001b[0m\u001b[0m\n\u001b[0m\u001b[0;32m      7\u001b[0m \u001b[0mprint\u001b[0m\u001b[1;33m(\u001b[0m\u001b[1;34m\"_\"\u001b[0m\u001b[1;33m*\u001b[0m\u001b[1;36m50\u001b[0m\u001b[1;33m)\u001b[0m\u001b[1;33m\u001b[0m\u001b[1;33m\u001b[0m\u001b[0m\n\u001b[0;32m      8\u001b[0m \u001b[1;32mfor\u001b[0m \u001b[0mi\u001b[0m\u001b[1;33m,\u001b[0m\u001b[1;33m(\u001b[0m\u001b[0ma\u001b[0m\u001b[1;33m,\u001b[0m\u001b[0mb\u001b[0m\u001b[1;33m)\u001b[0m \u001b[1;32min\u001b[0m \u001b[0menumerate\u001b[0m\u001b[1;33m(\u001b[0m\u001b[0mzip\u001b[0m\u001b[1;33m(\u001b[0m\u001b[0mlst_a\u001b[0m\u001b[1;33m,\u001b[0m\u001b[0mlst_b\u001b[0m\u001b[1;33m)\u001b[0m\u001b[1;33m)\u001b[0m\u001b[1;33m:\u001b[0m\u001b[1;33m\u001b[0m\u001b[1;33m\u001b[0m\u001b[0m\n",
      "\u001b[1;31mTypeError\u001b[0m: 'list' object is not callable"
     ]
    }
   ],
   "source": [
    "lst_c=['point_a','point_b','point_c','point_d']\n",
    "dic_4={}\n",
    "for idx,value in enumerate(lst_c):\n",
    "    dic_4[idx]=value\n",
    "print(\"dic_4={}\".format(dic_4))\n",
    "print(\"dict((i,v) for i,v in enumerate(lst_c))->{}\".format(dict((i,v) for i,v in enumerate(lst_c)))) #list comprehension\n",
    "print(\"_\"*50)\n",
    "for i,(a,b) in enumerate(zip(lst_a,lst_b)):\n",
    "    print('%d:%s,%s'%(i,a,b))"
   ]
  },
  {
   "cell_type": "code",
   "execution_count": 60,
   "id": "4cecd28c-c611-4009-bd5c-1f848ed5d28d",
   "metadata": {},
   "outputs": [
    {
     "name": "stdout",
     "output_type": "stream",
     "text": [
      "[x*x for x in range(3,37,5) if x%2==0]->[64, 324, 784]\n",
      "[(x,y) for x in range(3)for y in range(2)]->[(0, 0), (0, 1), (1, 0), (1, 1), (2, 0), (2, 1)]\n",
      "[(x,y) for x,y in zip(range(3),range(2))]->[(0, 0), (1, 1)]\n",
      "[[a for a in range(1,10,3)],2,3,[b for b in range(60,100,7)],[[c for c in range(1000,2000,120)],3,9]]->[[1, 4, 7], 2, 3, [60, 67, 74, 81, 88, 95], [[1000, 1120, 1240, 1360, 1480, 1600, 1720, 1840, 1960], 3, 9]]\n",
      "flatten_lst(nested_list)->[1, 4, 7, 2, 3, 60, 67, 74, 81, 88, 95, 1000, 1120, 1240, 1360, 1480, 1600, 1720, 1840, 1960, 3, 9]\n"
     ]
    }
   ],
   "source": [
    "print(\"[x*x for x in range(3,37,5) if x%2==0]->{}\".format([x*x for x in range(3,37,5) if x%2==0]))\n",
    "print(\"[(x,y) for x in range(3)for y in range(2)]->{}\".format([(x,y) for x in range(3)for y in range(2)]))\n",
    "print(\"[(x,y) for x,y in zip(range(3),range(2))]->{}\".format([(x,y) for x,y in zip(range(3),range(2))]))\n",
    "nested_list=[[a for a in range(1,10,3)],2,3,[b for b in range(60,100,7)],[[c for c in range(1000,2000,120)],3,9]]\n",
    "print(\"[[a for a in range(1,10,3)],2,3,[b for b in range(60,100,7)],[[c for c in range(1000,2000,120)],3,9]]->{}\".format(nested_list)) #嵌套列表推导式\n",
    "\n",
    "flatten_lst=lambda lst: [m for n_lst in lst for m in flatten_lst(n_lst)] if type(lst) is list else [lst] #展平列表常用，可以放置到单独的.py文件中调用。lambda函数后文阐述\n",
    "print(\"flatten_lst(nested_list)->{}\".format(flatten_lst(nested_list)))"
   ]
  },
  {
   "cell_type": "code",
   "execution_count": 65,
   "id": "bd8cf022-a5f7-4a18-887f-ba445698f000",
   "metadata": {},
   "outputs": [
    {
     "name": "stdout",
     "output_type": "stream",
     "text": [
      "小于10的正数\n"
     ]
    }
   ],
   "source": [
    "x=1\n",
    "if x<0:\n",
    "    print('是负数.')\n",
    "elif x==0:\n",
    "    print('是零.')\n",
    "elif 0<x<10:\n",
    "    print('小于10的正数')\n",
    "else:\n",
    "    print('大于10的正数.')"
   ]
  },
  {
   "cell_type": "code",
   "execution_count": 66,
   "id": "4310f612-d258-479a-a196-73d84d43697d",
   "metadata": {},
   "outputs": [
    {
     "name": "stdout",
     "output_type": "stream",
     "text": [
      "x==y->True\n",
      "x is y->True\n",
      "x==z->True\n",
      "x is z->False\n",
      "x is not y->False\n",
      "x is not z->True\n",
      "id_x:1879890221376;id_y:1879890221376;id_z:1879890221184\n",
      "x=[3, 6],y=[3, 6],z=[3, 6, 9] after del x[2]\n"
     ]
    }
   ],
   "source": [
    "x=y=[3,6,9]\n",
    "z=[3,6,9]\n",
    "print(\"x==y->{}\".format(x==y))\n",
    "print(\"x is y->{}\".format(x is y))\n",
    "print(\"x==z->{}\".format(x==z))\n",
    "print(\"x is z->{}\".format(x is z))\n",
    "print(\"x is not y->{}\".format(x is not y))\n",
    "print(\"x is not z->{}\".format(x is not z))\n",
    "print(\"id_x:{};id_y:{};id_z:{}\".format(id(x),id(y),id(z))) #Memory Location\n",
    "\n",
    "del x[2]\n",
    "print(\"x={},y={},z={} after del x[2]\".format(x,y,z))"
   ]
  },
  {
   "cell_type": "code",
   "execution_count": 67,
   "id": "324fed2b-3ce9-4a48-ae9e-51c3d9f05f8b",
   "metadata": {},
   "outputs": [
    {
     "name": "stdout",
     "output_type": "stream",
     "text": [
      "3 in x->True\n",
      "0 in x->False\n",
      "3 not in x->False\n",
      "0 not in x->True\n"
     ]
    }
   ],
   "source": [
    "x=[3,6,9]\n",
    "print(\"3 in x->{}\".format(3 in x))\n",
    "print(\"0 in x->{}\".format(0 in x))\n",
    "print(\"3 not in x->{}\".format(3 not in x))\n",
    "print(\"0 not in x->{}\".format(0 not in x))"
   ]
  },
  {
   "cell_type": "code",
   "execution_count": 74,
   "id": "116bfd4e-8fd4-40fd-9c13-0f9e75dac444",
   "metadata": {},
   "outputs": [
    {
     "name": "stdout",
     "output_type": "stream",
     "text": [
      "a<c<b? it must be wrong\n"
     ]
    }
   ],
   "source": [
    "a,b,c=100,100,15\n",
    "if c>a and c<b:\n",
    "    print('a<c<b')\n",
    "else: print('a<c<b? it must be wrong')"
   ]
  },
  {
   "cell_type": "code",
   "execution_count": 75,
   "id": "2f89438e-324d-4d0a-bcde-5f65b5af9570",
   "metadata": {},
   "outputs": [
    {
     "name": "stdout",
     "output_type": "stream",
     "text": [
      "simple_func(3,7)->16\n",
      "simple_func(7,3)->52\n",
      "simple_func(y=7,x=3)->16\n"
     ]
    }
   ],
   "source": [
    "def simple_func(x,y):\n",
    "    z=pow(x,2)+y\n",
    "    return z\n",
    "print(\"simple_func(3,7)->{}\".format(simple_func(3,7)))\n",
    "print(\"simple_func(7,3)->{}\".format(simple_func(7,3)))\n",
    "print(\"simple_func(y=7,x=3)->{}\".format(simple_func(y=7,x=3)))"
   ]
  },
  {
   "cell_type": "code",
   "execution_count": 77,
   "id": "b9c88f65-14dc-426a-9354-fba04b68f9a1",
   "metadata": {},
   "outputs": [
    {
     "name": "stdout",
     "output_type": "stream",
     "text": [
      "fibonacci(6,9)->[5, 8, 13, 21, 34, 55, 89, 144, 233]\n",
      "fibonacci(7,9)->[8, 13, 21, 34, 55, 89, 144, 233, 377]\n"
     ]
    }
   ],
   "source": [
    "#斐波那契数列，后一项是前两项之和\n",
    "def fibonacci(s,count):\n",
    "    fib_lst=[0,1]\n",
    "    fib_part=[]\n",
    "    if s==0 or s==1:\n",
    "        fib_part[:]=fib_lst\n",
    "        for i in range(count-2):\n",
    "            fib_part.append(fib_part[-1]+fib_part[-2])\n",
    "    else:\n",
    "        while True:\n",
    "            fib_lst[:]=[fib_lst[1],fib_lst[0]+fib_lst[1]]\n",
    "            #print(fib_lst)\n",
    "            if fib_lst[1]-s>=0:break\n",
    "        fib_part[:]=fib_lst\n",
    "        if abs(fib_lst[0]-s)>=abs(fib_lst[1]-s):\n",
    "            for i in range(count-1):\n",
    "                fib_part.append(fib_part[-1]+fib_part[-2])\n",
    "            fib_part.pop(0)\n",
    "        else:\n",
    "            for i in range(count-2):\n",
    "                fib_part.append(fib_part[-1]+fib_part[-2])\n",
    "    return fib_part\n",
    "\n",
    "print(\"fibonacci(6,9)->{}\".format(fibonacci(6,9)))\n",
    "print(\"fibonacci(7,9)->{}\".format(fibonacci(7,9)))"
   ]
  },
  {
   "cell_type": "code",
   "execution_count": 80,
   "id": "eeb5c5fa-b789-4c50-8dd2-6d441e3b35aa",
   "metadata": {},
   "outputs": [
    {
     "name": "stdout",
     "output_type": "stream",
     "text": [
      "24\n"
     ]
    }
   ],
   "source": [
    "def factorial(n):\n",
    "    if n==1:\n",
    "        return 1\n",
    "    else:\n",
    "        return n*factorial(n-1)\n",
    "print(factorial(4))"
   ]
  },
  {
   "cell_type": "code",
   "execution_count": 81,
   "id": "95e4384b-fd0d-4396-8e0a-9470a0444c18",
   "metadata": {},
   "outputs": [],
   "source": [
    "class Bird:\n",
    "    fly='Whirring'\n",
    "    def __init__(self):\n",
    "        self.hungry=True\n",
    "    def eat(self):\n",
    "        if self.hungry:\n",
    "            print('Aaaah...')\n",
    "            self.hungry=False\n",
    "        else:\n",
    "            print('No.Thanks!')\n",
    "\n",
    "class Apodidae(Bird): \n",
    "    def __init__(self):\n",
    "        super(Apodidae,self).__init__()\n",
    "        self.sound='Squawk!' \n",
    "    def sing(self):\n",
    "        print(self.sound)"
   ]
  },
  {
   "cell_type": "code",
   "execution_count": 82,
   "id": "8e1b018d-c1e5-45d5-9935-3290700e7034",
   "metadata": {},
   "outputs": [
    {
     "name": "stdout",
     "output_type": "stream",
     "text": [
      "swift.fly->Whirring\n",
      "swift.eat()->\n",
      "Aaaah...\n",
      "swift.eat()->\n",
      "No.Thanks!\n",
      "swift.sing()->\n",
      "Squawk!\n"
     ]
    }
   ],
   "source": [
    "swift=Apodidae()\n",
    "print(\"swift.fly->{}\".format(swift.fly))\n",
    "print(\"swift.eat()->\")\n",
    "swift.eat()\n",
    "print(\"swift.eat()->\")\n",
    "swift.eat()\n",
    "print(\"swift.sing()->\")\n",
    "swift.sing()"
   ]
  },
  {
   "cell_type": "code",
   "execution_count": 83,
   "id": "577b9fd6-9504-4189-9720-e3e4902d4690",
   "metadata": {},
   "outputs": [
    {
     "name": "stdout",
     "output_type": "stream",
     "text": [
      "blackswift.sing()->\n",
      "Squawk!\n",
      "scarceswift.sing()->\n",
      "Squawk!\n"
     ]
    }
   ],
   "source": [
    "blackswift=Apodidae()\n",
    "scarceswift=Apodidae()\n",
    "print(\"blackswift.sing()->\")\n",
    "blackswift.sing()\n",
    "print(\"scarceswift.sing()->\")\n",
    "scarceswift.sing()"
   ]
  },
  {
   "cell_type": "code",
   "execution_count": 85,
   "id": "ea622a54-56ec-41fc-bc14-801b33d6ce7b",
   "metadata": {},
   "outputs": [
    {
     "name": "stdout",
     "output_type": "stream",
     "text": [
      "blackswift.fly->humming\n",
      "blackswift.fly after redefining the blackswif's attribute->humming\n",
      "scarceswift.fly->Whirring\n",
      "Squawk!\n"
     ]
    }
   ],
   "source": [
    "print(\"blackswift.fly->{}\".format(blackswift.fly))\n",
    "blackswift.fly='humming' #重新赋予实例的属性\n",
    "print(\"blackswift.fly after redefining the blackswif's attribute->{}\".format(blackswift.fly))\n",
    "print(\"scarceswift.fly->{}\".format(scarceswift.fly))\n",
    "\n",
    "blackswift.sing()"
   ]
  },
  {
   "cell_type": "code",
   "execution_count": 86,
   "id": "6f849930-1462-4b06-a5e5-f9dc79a23637",
   "metadata": {},
   "outputs": [],
   "source": [
    "class Fibs():\n",
    "    def __init__(self):\n",
    "        self.a=0\n",
    "        self.b=1\n",
    "    def next(self):  #实现迭代器的next方法\n",
    "        self.a,self.b=self.b,self.a+self.b\n",
    "        return self.a\n",
    "    def __iter__(self): #实现迭代方法\n",
    "        return self"
   ]
  },
  {
   "cell_type": "code",
   "execution_count": 88,
   "id": "50ebaffd-2be2-4b9a-affe-200deb1ffd75",
   "metadata": {},
   "outputs": [
    {
     "name": "stdout",
     "output_type": "stream",
     "text": [
      "fa=[1, 1, 2, 3, 5, 8, 13, 21, 34]\n",
      "fb=[55, 89, 144, 233, 377]\n"
     ]
    }
   ],
   "source": [
    "f=Fibs()\n",
    "fa=[]\n",
    "fb=[]\n",
    "for i in range(9):\n",
    "    fa.append(f.next())\n",
    "print(\"fa={}\".format(fa))\n",
    "for i in range(5):\n",
    "    fb.append(f.next())\n",
    "print(\"fb={}\".format(fb))"
   ]
  },
  {
   "cell_type": "code",
   "execution_count": 91,
   "id": "145a2500-8073-4920-89c3-dbff3fd9e180",
   "metadata": {},
   "outputs": [
    {
     "name": "stdout",
     "output_type": "stream",
     "text": [
      "lst_e=[[3, 6, 9, 12, 15, 18], [3, 7, 67, [0, 1, 2, 3, 4], 89]]\n",
      "__________________________________________________\n",
      "flatten_lst=[3, 6, 9, 12, 15, 18, 3, 7, 67, 0, 1, 2, 3, 4, 89]\n"
     ]
    }
   ],
   "source": [
    "lst_e=[list(range(3,20,3)),[3,7,67,list(range(5)),89]]\n",
    "print(\"lst_e={}\".format(lst_e))\n",
    "print(\"_\"*50)\n",
    "flatten_lst=[]\n",
    "for v_1 in lst_e:\n",
    "    try:\n",
    "        for v_2 in v_1:\n",
    "            try:\n",
    "                for v_3 in v_2:\n",
    "                    flatten_lst.append(v_3)\n",
    "            except TypeError:\n",
    "                flatten_lst.append(v_2)\n",
    "    except TypeError:\n",
    "        flatten_lst.append(v_1)\n",
    "print(\"flatten_lst={}\".format(flatten_lst))\n"
   ]
  },
  {
   "cell_type": "code",
   "execution_count": 92,
   "id": "e7e5aa83-09c8-4acb-b750-e0ed94006642",
   "metadata": {},
   "outputs": [
    {
     "name": "stdout",
     "output_type": "stream",
     "text": [
      "list(flatten(lst_e))->[3, 6, 9, 12, 15, 18, 3, 7, 67, 0, 1, 2, 3, 4, 89]\n"
     ]
    }
   ],
   "source": [
    "def flatten(lst): #定义生成器（包含yield语句的函数）\n",
    "    try: #使用语句try\\except捕捉异常        \n",
    "        for n_lst in lst:  #循环列表            \n",
    "            for m in flatten(n_lst): #使用递归的方法循环子列表                \n",
    "                yield m  #使用yield语句，每次产生多个值，当返回一个值时函数就会被冻结，当再次激活时，从停止的那点开始执行\n",
    "    except TypeError:  #当函数被告知展开一个元素时，引发TypeError异常，生成器返回一个值\n",
    "        yield lst #生成器返回引发异常的一个值\n",
    "print(\"list(flatten(lst_e))->{}\".format(list(flatten(lst_e))))"
   ]
  },
  {
   "cell_type": "code",
   "execution_count": 93,
   "id": "c4a548d4-5b7a-4a64-9ecd-d766dfb36940",
   "metadata": {},
   "outputs": [
    {
     "name": "stdout",
     "output_type": "stream",
     "text": [
      "next(n)->num#0\n",
      "next(n)->num#1\n",
      "next(n)->num#2\n",
      "[next(n) for i in range(5)]->['num#3', 'num#4', 'num#5', 'num#6', 'num#7']\n"
     ]
    }
   ],
   "source": [
    "def infinite():\n",
    "    n=0\n",
    "    while True:\n",
    "        yield 'num#'+str(n)\n",
    "        n+=1\n",
    "n=infinite()\n",
    "print(\"next(n)->{}\".format(next(n)))\n",
    "print(\"next(n)->{}\".format(next(n)))\n",
    "print(\"next(n)->{}\".format(next(n)))\n",
    "print(\"[next(n) for i in range(5)]->{}\".format([next(n) for i in range(5)]))"
   ]
  },
  {
   "cell_type": "code",
   "execution_count": 94,
   "id": "c7df6a2c-d6f2-4a1d-bc44-73515a5d1845",
   "metadata": {},
   "outputs": [
    {
     "name": "stdout",
     "output_type": "stream",
     "text": [
      "[[(2*pi*(2*(u/(n-1))-1),2*pi*(2*(v/(n-1))-1)) for u in range(n)] for v in range(n)]->[[(-6.283185307179586, -6.283185307179586), (0.0, -6.283185307179586), (6.283185307179586, -6.283185307179586)], [(-6.283185307179586, 0.0), (0.0, 0.0), (6.283185307179586, 0.0)], [(-6.283185307179586, 6.283185307179586), (0.0, 6.283185307179586), (6.283185307179586, 6.283185307179586)]]\n",
      "__________________________________________________\n",
      "([(2*pi*(2*(u/(n-1))-1),2*pi*(2*(v/(n-1))-1)) for u in range(n)] for v in range(n))-><generator object <genexpr> at 0x000001B5B2300C10>\n",
      "next(gen)->[(-6.283185307179586, -6.283185307179586), (0.0, -6.283185307179586), (6.283185307179586, -6.283185307179586)]\n",
      "next(gen)->[(-6.283185307179586, 0.0), (0.0, 0.0), (6.283185307179586, 0.0)]\n"
     ]
    }
   ],
   "source": [
    "n=3\n",
    "print(\"[[(2*pi*(2*(u/(n-1))-1),2*pi*(2*(v/(n-1))-1)) for u in range(n)] for v in range(n)]->{}\".format([[(2*pi*(2*(u/(n-1))-1),2*pi*(2*(v/(n-1))-1)) for u in range(n)] for v in range(n)]))\n",
    "print(\"_\"*50)\n",
    "print(\"([(2*pi*(2*(u/(n-1))-1),2*pi*(2*(v/(n-1))-1)) for u in range(n)] for v in range(n))->{}\".format(([(2*pi*(2*(u/(n-1))-1),2*pi*(2*(v/(n-1))-1)) for u in range(n)] for v in range(n))))\n",
    "gen=([(2*pi*(2*(u/(n-1))-1),2*pi*(2*(v/(n-1))-1)) for u in range(n)] for v in range(n))\n",
    "print(\"next(gen)->{}\".format(next(gen)))\n",
    "print(\"next(gen)->{}\".format(next(gen)))"
   ]
  },
  {
   "cell_type": "code",
   "execution_count": 95,
   "id": "8aa78fb0-a2fe-4c7c-b9a9-ecc8ab62b579",
   "metadata": {},
   "outputs": [
    {
     "name": "stdout",
     "output_type": "stream",
     "text": [
      "Unable to open ./data/tryException.txt :[Errno 2] No such file or directory: './data/tryException.txt'\n",
      "\n",
      "done!\n"
     ]
    }
   ],
   "source": [
    "def f_open_b(fp):\n",
    "    try:\n",
    "        f=open(fp,'r')\n",
    "    except IOError as e:\n",
    "        print('Unable to open',fp,':%s\\n' %e)\n",
    "    else:\n",
    "        data=f.read()\n",
    "        f.close()\n",
    "        return data\n",
    "    finally:\n",
    "        print('done!')\n",
    "f_open_b(\"./data/tryException.txt\")"
   ]
  },
  {
   "cell_type": "code",
   "execution_count": 99,
   "id": "2aa05499-337f-4e51-ac30-6fe1340b8098",
   "metadata": {},
   "outputs": [],
   "source": [
    "x=20\n",
    "assert x>0 #为真则不做任何事情"
   ]
  },
  {
   "cell_type": "code",
   "execution_count": 100,
   "id": "485f6bf7-dec1-4072-ba65-016b0a234b0d",
   "metadata": {},
   "outputs": [
    {
     "ename": "AssertionError",
     "evalue": "",
     "output_type": "error",
     "traceback": [
      "\u001b[1;31m---------------------------------------------------------------------------\u001b[0m",
      "\u001b[1;31mAssertionError\u001b[0m                            Traceback (most recent call last)",
      "\u001b[1;32m<ipython-input-100-ba7c61fb1b4f>\u001b[0m in \u001b[0;36m<module>\u001b[1;34m\u001b[0m\n\u001b[1;32m----> 1\u001b[1;33m \u001b[1;32massert\u001b[0m \u001b[0mx\u001b[0m\u001b[1;33m<\u001b[0m\u001b[1;36m0\u001b[0m \u001b[1;31m#为假则引发AssertionError异常\u001b[0m\u001b[1;33m\u001b[0m\u001b[1;33m\u001b[0m\u001b[0m\n\u001b[0m",
      "\u001b[1;31mAssertionError\u001b[0m: "
     ]
    }
   ],
   "source": [
    "assert x<0 #为假则引发AssertionError异常(断言错误)"
   ]
  },
  {
   "cell_type": "code",
   "execution_count": null,
   "id": "db606a6b-fc57-4c35-957b-9da86b6d315b",
   "metadata": {},
   "outputs": [],
   "source": []
  }
 ],
 "metadata": {
  "kernelspec": {
   "display_name": "Python 3",
   "language": "python",
   "name": "python3"
  },
  "language_info": {
   "codemirror_mode": {
    "name": "ipython",
    "version": 3
   },
   "file_extension": ".py",
   "mimetype": "text/x-python",
   "name": "python",
   "nbconvert_exporter": "python",
   "pygments_lexer": "ipython3",
   "version": "3.8.8"
  }
 },
 "nbformat": 4,
 "nbformat_minor": 5
}
